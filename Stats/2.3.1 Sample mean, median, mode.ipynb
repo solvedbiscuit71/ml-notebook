{
 "cells": [
  {
   "cell_type": "code",
   "execution_count": 1,
   "metadata": {},
   "outputs": [],
   "source": [
    "# step-leaf plot\n",
    "mice1 = {\n",
    "    1: [58,92,93,94,95],\n",
    "    2: [2,12,15,29,30,37,40,44,47,59],\n",
    "    3: [1,1,21,37],\n",
    "    4: [15,34,44,85,96],\n",
    "    5: [29,37],\n",
    "    6: [24],\n",
    "    7: [7],\n",
    "    8: [0]\n",
    "}"
   ]
  },
  {
   "cell_type": "code",
   "execution_count": 2,
   "metadata": {},
   "outputs": [],
   "source": [
    "# stemp-leaf plot\n",
    "mice2 = {\n",
    "    1: [59,89,91,98],\n",
    "    2: [35,45,50,56,61,65,66,80],\n",
    "    3: [43,56,83],\n",
    "    4: [3,14,28,32]\n",
    "}"
   ]
  },
  {
   "cell_type": "code",
   "execution_count": 3,
   "metadata": {},
   "outputs": [],
   "source": [
    "def total(mice):\n",
    "    total = 0\n",
    "    for k, v in mice.items():\n",
    "        total += (k * 100 * len(v)) + sum(v)\n",
    "\n",
    "    return (total)"
   ]
  },
  {
   "cell_type": "code",
   "execution_count": 4,
   "metadata": {},
   "outputs": [],
   "source": [
    "def n(mice):\n",
    "    n = 0\n",
    "    for v in mice.values():\n",
    "        n += len(v)\n",
    "\n",
    "    return (n)"
   ]
  },
  {
   "cell_type": "code",
   "execution_count": 5,
   "metadata": {},
   "outputs": [],
   "source": [
    "def mean(mice):\n",
    "    return total(mice) / n(mice)"
   ]
  },
  {
   "cell_type": "code",
   "execution_count": 6,
   "metadata": {},
   "outputs": [
    {
     "data": {
      "text/plain": [
       "344.0689655172414"
      ]
     },
     "execution_count": 6,
     "metadata": {},
     "output_type": "execute_result"
    }
   ],
   "source": [
    "mean(mice1)"
   ]
  },
  {
   "cell_type": "code",
   "execution_count": 7,
   "metadata": {},
   "outputs": [
    {
     "data": {
      "text/plain": [
       "292.3157894736842"
      ]
     },
     "execution_count": 7,
     "metadata": {},
     "output_type": "execute_result"
    }
   ],
   "source": [
    "mean(mice2)"
   ]
  },
  {
   "cell_type": "code",
   "execution_count": 8,
   "metadata": {},
   "outputs": [],
   "source": [
    "def to_plot(data):\n",
    "    plot = {}\n",
    "    \n",
    "    def h(x):\n",
    "        stem = x // 100\n",
    "        leaf = x - (stem * 100)\n",
    "\n",
    "        return (stem, leaf)\n",
    "    \n",
    "    for x in data:\n",
    "        k, v = h(x)\n",
    "        if k in plot:\n",
    "            plot[k].append(v)\n",
    "        else:\n",
    "            plot[k] = [v]\n",
    "            \n",
    "    return plot"
   ]
  },
  {
   "cell_type": "code",
   "execution_count": 9,
   "metadata": {},
   "outputs": [],
   "source": [
    "def to_data(plot):\n",
    "    data = []\n",
    "    \n",
    "    def h(stem, leaf):\n",
    "        return stem * 100 + leaf\n",
    "    \n",
    "    for k, v in plot.items():\n",
    "        data.extend([h(k, vi) for vi in v])\n",
    "    \n",
    "    return data"
   ]
  },
  {
   "cell_type": "code",
   "execution_count": 10,
   "metadata": {},
   "outputs": [],
   "source": [
    "def to_freq(data):\n",
    "    freq = {}\n",
    "    \n",
    "    for x in data:\n",
    "        if x in freq:\n",
    "            continue\n",
    "        freq[x] = data.count(x)\n",
    "        \n",
    "    return freq"
   ]
  },
  {
   "cell_type": "code",
   "execution_count": 11,
   "metadata": {},
   "outputs": [],
   "source": [
    "def median(mice):\n",
    "    data = to_data(mice)\n",
    "    n = len(data)\n",
    "    \n",
    "    match n % 2:\n",
    "        case 1:\n",
    "            return data[(n - 1) // 2]\n",
    "        case 0:\n",
    "            return (data[n // 2] + data[n // 2 - 1]) / 2"
   ]
  },
  {
   "cell_type": "code",
   "execution_count": 12,
   "metadata": {},
   "outputs": [
    {
     "data": {
      "text/plain": [
       "259"
      ]
     },
     "execution_count": 12,
     "metadata": {},
     "output_type": "execute_result"
    }
   ],
   "source": [
    "median(mice1)"
   ]
  },
  {
   "cell_type": "code",
   "execution_count": 13,
   "metadata": {},
   "outputs": [
    {
     "data": {
      "text/plain": [
       "265"
      ]
     },
     "execution_count": 13,
     "metadata": {},
     "output_type": "execute_result"
    }
   ],
   "source": [
    "median(mice2)"
   ]
  },
  {
   "cell_type": "code",
   "execution_count": 14,
   "metadata": {},
   "outputs": [],
   "source": [
    "def mode(mice):\n",
    "    freq = to_freq(to_data(mice))\n",
    "    mode = ([], 0)\n",
    "\n",
    "    for k, v in freq.items():\n",
    "        if mode[1] < v:\n",
    "            mode[0].clear()\n",
    "            mode[0].append(k)\n",
    "            mode = (mode[0], v)\n",
    "        elif mode[1] == v:\n",
    "            mode[0].append(k)\n",
    "   \n",
    "    return mode"
   ]
  },
  {
   "cell_type": "code",
   "execution_count": 15,
   "metadata": {},
   "outputs": [
    {
     "data": {
      "text/plain": [
       "([301], 2)"
      ]
     },
     "execution_count": 15,
     "metadata": {},
     "output_type": "execute_result"
    }
   ],
   "source": [
    "mode(mice1)"
   ]
  },
  {
   "cell_type": "code",
   "execution_count": 16,
   "metadata": {},
   "outputs": [
    {
     "data": {
      "text/plain": [
       "([159,\n",
       "  189,\n",
       "  191,\n",
       "  198,\n",
       "  235,\n",
       "  245,\n",
       "  250,\n",
       "  256,\n",
       "  261,\n",
       "  265,\n",
       "  266,\n",
       "  280,\n",
       "  343,\n",
       "  356,\n",
       "  383,\n",
       "  403,\n",
       "  414,\n",
       "  428,\n",
       "  432],\n",
       " 1)"
      ]
     },
     "execution_count": 16,
     "metadata": {},
     "output_type": "execute_result"
    }
   ],
   "source": [
    "mode(mice2)"
   ]
  }
 ],
 "metadata": {
  "kernelspec": {
   "display_name": "Python 3 (ipykernel)",
   "language": "python",
   "name": "python3"
  },
  "language_info": {
   "codemirror_mode": {
    "name": "ipython",
    "version": 3
   },
   "file_extension": ".py",
   "mimetype": "text/x-python",
   "name": "python",
   "nbconvert_exporter": "python",
   "pygments_lexer": "ipython3",
   "version": "3.11.3"
  }
 },
 "nbformat": 4,
 "nbformat_minor": 2
}
