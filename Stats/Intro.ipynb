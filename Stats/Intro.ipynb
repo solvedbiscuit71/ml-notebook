{
 "cells": [
  {
   "cell_type": "code",
   "execution_count": 1,
   "id": "49caad98",
   "metadata": {},
   "outputs": [],
   "source": [
    "import numpy as np"
   ]
  },
  {
   "cell_type": "code",
   "execution_count": 2,
   "id": "8d8dd8f1",
   "metadata": {},
   "outputs": [],
   "source": [
    "data_set = np.array([168, 170, 150, 160, 182, 140, 175])"
   ]
  },
  {
   "cell_type": "code",
   "execution_count": 3,
   "id": "ae395688",
   "metadata": {},
   "outputs": [
    {
     "data": {
      "text/plain": [
       "array([168, 170, 150, 160, 182, 140, 175])"
      ]
     },
     "execution_count": 3,
     "metadata": {},
     "output_type": "execute_result"
    }
   ],
   "source": [
    "data_set"
   ]
  },
  {
   "cell_type": "markdown",
   "id": "8b73c3d9",
   "metadata": {},
   "source": [
    "# Mean\n",
    "\n",
    "It is defined as the average of all data points in the data set. It represents the central tendency of the data set"
   ]
  },
  {
   "cell_type": "code",
   "execution_count": 4,
   "id": "19b3d94c",
   "metadata": {},
   "outputs": [],
   "source": [
    "def mean(x: np.ndarray):\n",
    "    n = x.size\n",
    "    \n",
    "    return np.sum(x) / n"
   ]
  },
  {
   "cell_type": "code",
   "execution_count": 6,
   "id": "03227ac2",
   "metadata": {},
   "outputs": [
    {
     "data": {
      "text/plain": [
       "163.57142857142858"
      ]
     },
     "execution_count": 6,
     "metadata": {},
     "output_type": "execute_result"
    }
   ],
   "source": [
    "mean(data_set)"
   ]
  },
  {
   "cell_type": "code",
   "execution_count": 7,
   "id": "d6cf3134",
   "metadata": {},
   "outputs": [
    {
     "data": {
      "text/plain": [
       "163.57142857142858"
      ]
     },
     "execution_count": 7,
     "metadata": {},
     "output_type": "execute_result"
    }
   ],
   "source": [
    "np.mean(data_set)"
   ]
  },
  {
   "cell_type": "markdown",
   "id": "2104e625",
   "metadata": {},
   "source": [
    "# Variance\n",
    "\n",
    "It is defined as the sum of sqaures of difference between a data point and mean. It represents the dispersion of the data set"
   ]
  },
  {
   "cell_type": "code",
   "execution_count": 10,
   "id": "ca6e5175",
   "metadata": {},
   "outputs": [],
   "source": [
    "def variance(x: np.ndarray):\n",
    "    mean = np.mean(x)\n",
    "    n = x.size\n",
    "    \n",
    "    sum_of_sqaure = 0\n",
    "    for x_i in x:\n",
    "        sum_of_sqaure += (x_i - mean)**2\n",
    "        \n",
    "    return sum_of_sqaure / n"
   ]
  },
  {
   "cell_type": "code",
   "execution_count": 11,
   "id": "7b7f0ada",
   "metadata": {},
   "outputs": [
    {
     "data": {
      "text/plain": [
       "183.38775510204079"
      ]
     },
     "execution_count": 11,
     "metadata": {},
     "output_type": "execute_result"
    }
   ],
   "source": [
    "variance(data_set)"
   ]
  },
  {
   "cell_type": "code",
   "execution_count": 12,
   "id": "076aa788",
   "metadata": {},
   "outputs": [
    {
     "data": {
      "text/plain": [
       "183.38775510204079"
      ]
     },
     "execution_count": 12,
     "metadata": {},
     "output_type": "execute_result"
    }
   ],
   "source": [
    "np.var(data_set)"
   ]
  },
  {
   "cell_type": "markdown",
   "id": "fabd5d33",
   "metadata": {},
   "source": [
    "# Standard Deviation\n",
    "\n",
    "Though, variance represents dispersion it is hard to interpret. That's why we use standard deviation which is defined as the sqaure root of variance"
   ]
  },
  {
   "cell_type": "code",
   "execution_count": 13,
   "id": "cb2e259e",
   "metadata": {},
   "outputs": [],
   "source": [
    "def standard_deviation(x: np.ndarray):\n",
    "    return np.var(x)**0.5"
   ]
  },
  {
   "cell_type": "code",
   "execution_count": 14,
   "id": "8f4eaa20",
   "metadata": {},
   "outputs": [
    {
     "data": {
      "text/plain": [
       "13.542073515604645"
      ]
     },
     "execution_count": 14,
     "metadata": {},
     "output_type": "execute_result"
    }
   ],
   "source": [
    "standard_deviation(data_set)"
   ]
  },
  {
   "cell_type": "code",
   "execution_count": 15,
   "id": "8ee85fd2",
   "metadata": {},
   "outputs": [
    {
     "data": {
      "text/plain": [
       "13.542073515604645"
      ]
     },
     "execution_count": 15,
     "metadata": {},
     "output_type": "execute_result"
    }
   ],
   "source": [
    "np.std(data_set)"
   ]
  },
  {
   "cell_type": "markdown",
   "id": "26844cb3",
   "metadata": {},
   "source": [
    "# Z Score\n",
    "\n",
    "It is defined as how far from the mean does a data point is located in terms of standard deviation in a normal distribution. It is used to standardise data points in a data set"
   ]
  },
  {
   "cell_type": "code",
   "execution_count": 16,
   "id": "ce3751a7",
   "metadata": {},
   "outputs": [],
   "source": [
    "def z_score(x: np.ndarray, x_i: int):\n",
    "    mean = np.mean(x)\n",
    "    std = np.std(x)\n",
    "    \n",
    "    return (x_i - mean) / std"
   ]
  },
  {
   "cell_type": "code",
   "execution_count": 19,
   "id": "723f86cc",
   "metadata": {},
   "outputs": [],
   "source": [
    "z_150 = z_score(data_set, 150)"
   ]
  },
  {
   "cell_type": "code",
   "execution_count": 20,
   "id": "d0857dfd",
   "metadata": {},
   "outputs": [
    {
     "data": {
      "text/plain": [
       "-1.0021676928418763"
      ]
     },
     "execution_count": 20,
     "metadata": {},
     "output_type": "execute_result"
    }
   ],
   "source": [
    "z_150"
   ]
  },
  {
   "cell_type": "code",
   "execution_count": 21,
   "id": "cbe773da",
   "metadata": {},
   "outputs": [
    {
     "data": {
      "text/plain": [
       "150.0"
      ]
     },
     "execution_count": 21,
     "metadata": {},
     "output_type": "execute_result"
    }
   ],
   "source": [
    "np.mean(data_set) + z_150 * np.std(data_set) # Back substitution"
   ]
  }
 ],
 "metadata": {
  "kernelspec": {
   "display_name": "Python 3 (ipykernel)",
   "language": "python",
   "name": "python3"
  },
  "language_info": {
   "codemirror_mode": {
    "name": "ipython",
    "version": 3
   },
   "file_extension": ".py",
   "mimetype": "text/x-python",
   "name": "python",
   "nbconvert_exporter": "python",
   "pygments_lexer": "ipython3",
   "version": "3.11.3"
  }
 },
 "nbformat": 4,
 "nbformat_minor": 5
}
