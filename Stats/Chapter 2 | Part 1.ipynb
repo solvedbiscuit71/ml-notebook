{
 "cells": [
  {
   "cell_type": "code",
   "execution_count": 1,
   "id": "5e075341",
   "metadata": {},
   "outputs": [],
   "source": [
    "import os\n",
    "\n",
    "import numpy as np\n",
    "import pandas as pd\n",
    "import matplotlib.pyplot as plt"
   ]
  },
  {
   "cell_type": "code",
   "execution_count": 2,
   "id": "0b44a2a8",
   "metadata": {},
   "outputs": [],
   "source": [
    "root_path = os.getcwd().replace('Stats', 'Dataset'+os.sep)\n",
    "for root,dirs,files in os.walk(root_path):\n",
    "    if root == root_path:\n",
    "        datasets = files"
   ]
  },
  {
   "cell_type": "code",
   "execution_count": 3,
   "id": "a54b4810",
   "metadata": {},
   "outputs": [],
   "source": [
    "datasets = {\n",
    "    dataset[:dataset.index('.')] : pd.read_csv(root_path + dataset) \n",
    "    for dataset in datasets\n",
    "}"
   ]
  },
  {
   "cell_type": "code",
   "execution_count": 4,
   "id": "06ee926a",
   "metadata": {},
   "outputs": [
    {
     "data": {
      "text/plain": [
       "dict_keys(['starting-salary', 'noise-level', 'cancer-cases', 'insurance', 'temperature-defects', 'airline-accidents', 'items-lifetime'])"
      ]
     },
     "execution_count": 4,
     "metadata": {},
     "output_type": "execute_result"
    }
   ],
   "source": [
    "datasets.keys()"
   ]
  },
  {
   "cell_type": "code",
   "execution_count": 5,
   "id": "2aa72484",
   "metadata": {},
   "outputs": [],
   "source": [
    "df = datasets['airline-accidents'].copy()"
   ]
  },
  {
   "cell_type": "code",
   "execution_count": 6,
   "id": "8f9a1de0",
   "metadata": {},
   "outputs": [],
   "source": [
    "df = df.rename(columns={'Accidents': 'Frequency'})"
   ]
  },
  {
   "cell_type": "code",
   "execution_count": 7,
   "id": "02926533",
   "metadata": {},
   "outputs": [
    {
     "data": {
      "text/html": [
       "<div>\n",
       "<style scoped>\n",
       "    .dataframe tbody tr th:only-of-type {\n",
       "        vertical-align: middle;\n",
       "    }\n",
       "\n",
       "    .dataframe tbody tr th {\n",
       "        vertical-align: top;\n",
       "    }\n",
       "\n",
       "    .dataframe thead th {\n",
       "        text-align: right;\n",
       "    }\n",
       "</style>\n",
       "<table border=\"1\" class=\"dataframe\">\n",
       "  <thead>\n",
       "    <tr style=\"text-align: right;\">\n",
       "      <th></th>\n",
       "      <th>Year</th>\n",
       "      <th>Frequency</th>\n",
       "    </tr>\n",
       "  </thead>\n",
       "  <tbody>\n",
       "    <tr>\n",
       "      <th>0</th>\n",
       "      <td>1997</td>\n",
       "      <td>25</td>\n",
       "    </tr>\n",
       "    <tr>\n",
       "      <th>1</th>\n",
       "      <td>1998</td>\n",
       "      <td>20</td>\n",
       "    </tr>\n",
       "    <tr>\n",
       "      <th>2</th>\n",
       "      <td>1999</td>\n",
       "      <td>21</td>\n",
       "    </tr>\n",
       "    <tr>\n",
       "      <th>3</th>\n",
       "      <td>2000</td>\n",
       "      <td>18</td>\n",
       "    </tr>\n",
       "    <tr>\n",
       "      <th>4</th>\n",
       "      <td>2001</td>\n",
       "      <td>13</td>\n",
       "    </tr>\n",
       "    <tr>\n",
       "      <th>5</th>\n",
       "      <td>2002</td>\n",
       "      <td>13</td>\n",
       "    </tr>\n",
       "    <tr>\n",
       "      <th>6</th>\n",
       "      <td>2003</td>\n",
       "      <td>7</td>\n",
       "    </tr>\n",
       "    <tr>\n",
       "      <th>7</th>\n",
       "      <td>2004</td>\n",
       "      <td>9</td>\n",
       "    </tr>\n",
       "    <tr>\n",
       "      <th>8</th>\n",
       "      <td>2005</td>\n",
       "      <td>18</td>\n",
       "    </tr>\n",
       "  </tbody>\n",
       "</table>\n",
       "</div>"
      ],
      "text/plain": [
       "   Year  Frequency\n",
       "0  1997         25\n",
       "1  1998         20\n",
       "2  1999         21\n",
       "3  2000         18\n",
       "4  2001         13\n",
       "5  2002         13\n",
       "6  2003          7\n",
       "7  2004          9\n",
       "8  2005         18"
      ]
     },
     "execution_count": 7,
     "metadata": {},
     "output_type": "execute_result"
    }
   ],
   "source": [
    "\"\"\"\n",
    "Frequency table are used to represent small distinct values\n",
    "\"\"\"\n",
    "df"
   ]
  },
  {
   "cell_type": "code",
   "execution_count": 8,
   "id": "9950a566",
   "metadata": {},
   "outputs": [
    {
     "data": {
      "image/png": "[encoded data removed]",
      "text/plain": [
       "<Figure size 640x480 with 1 Axes>"
      ]
     },
     "metadata": {},
     "output_type": "display_data"
    }
   ],
   "source": [
    "\"\"\"\n",
    "Frequency table can be represented graphically using bar graph\n",
    "\"\"\"\n",
    "plt.bar(df['Year'], df['Frequency'], width=0.5) # Bar graph\n",
    "plt.show()"
   ]
  },
  {
   "cell_type": "code",
   "execution_count": 9,
   "id": "dbfd4af6",
   "metadata": {},
   "outputs": [],
   "source": [
    "df['Relative Frequency'] = df['Frequency'] / df['Frequency'].sum()"
   ]
  },
  {
   "cell_type": "code",
   "execution_count": 10,
   "id": "32baae22",
   "metadata": {},
   "outputs": [
    {
     "data": {
      "text/html": [
       "<div>\n",
       "<style scoped>\n",
       "    .dataframe tbody tr th:only-of-type {\n",
       "        vertical-align: middle;\n",
       "    }\n",
       "\n",
       "    .dataframe tbody tr th {\n",
       "        vertical-align: top;\n",
       "    }\n",
       "\n",
       "    .dataframe thead th {\n",
       "        text-align: right;\n",
       "    }\n",
       "</style>\n",
       "<table border=\"1\" class=\"dataframe\">\n",
       "  <thead>\n",
       "    <tr style=\"text-align: right;\">\n",
       "      <th></th>\n",
       "      <th>Year</th>\n",
       "      <th>Frequency</th>\n",
       "      <th>Relative Frequency</th>\n",
       "    </tr>\n",
       "  </thead>\n",
       "  <tbody>\n",
       "    <tr>\n",
       "      <th>0</th>\n",
       "      <td>1997</td>\n",
       "      <td>25</td>\n",
       "      <td>0.173611</td>\n",
       "    </tr>\n",
       "    <tr>\n",
       "      <th>1</th>\n",
       "      <td>1998</td>\n",
       "      <td>20</td>\n",
       "      <td>0.138889</td>\n",
       "    </tr>\n",
       "    <tr>\n",
       "      <th>2</th>\n",
       "      <td>1999</td>\n",
       "      <td>21</td>\n",
       "      <td>0.145833</td>\n",
       "    </tr>\n",
       "    <tr>\n",
       "      <th>3</th>\n",
       "      <td>2000</td>\n",
       "      <td>18</td>\n",
       "      <td>0.125000</td>\n",
       "    </tr>\n",
       "    <tr>\n",
       "      <th>4</th>\n",
       "      <td>2001</td>\n",
       "      <td>13</td>\n",
       "      <td>0.090278</td>\n",
       "    </tr>\n",
       "    <tr>\n",
       "      <th>5</th>\n",
       "      <td>2002</td>\n",
       "      <td>13</td>\n",
       "      <td>0.090278</td>\n",
       "    </tr>\n",
       "    <tr>\n",
       "      <th>6</th>\n",
       "      <td>2003</td>\n",
       "      <td>7</td>\n",
       "      <td>0.048611</td>\n",
       "    </tr>\n",
       "    <tr>\n",
       "      <th>7</th>\n",
       "      <td>2004</td>\n",
       "      <td>9</td>\n",
       "      <td>0.062500</td>\n",
       "    </tr>\n",
       "    <tr>\n",
       "      <th>8</th>\n",
       "      <td>2005</td>\n",
       "      <td>18</td>\n",
       "      <td>0.125000</td>\n",
       "    </tr>\n",
       "  </tbody>\n",
       "</table>\n",
       "</div>"
      ],
      "text/plain": [
       "   Year  Frequency  Relative Frequency\n",
       "0  1997         25            0.173611\n",
       "1  1998         20            0.138889\n",
       "2  1999         21            0.145833\n",
       "3  2000         18            0.125000\n",
       "4  2001         13            0.090278\n",
       "5  2002         13            0.090278\n",
       "6  2003          7            0.048611\n",
       "7  2004          9            0.062500\n",
       "8  2005         18            0.125000"
      ]
     },
     "execution_count": 10,
     "metadata": {},
     "output_type": "execute_result"
    }
   ],
   "source": [
    "df"
   ]
  },
  {
   "cell_type": "code",
   "execution_count": 11,
   "id": "93b13f70",
   "metadata": {},
   "outputs": [
    {
     "data": {
      "text/plain": [
       "1.0"
      ]
     },
     "execution_count": 11,
     "metadata": {},
     "output_type": "execute_result"
    }
   ],
   "source": [
    "df['Relative Frequency'].sum()"
   ]
  },
  {
   "cell_type": "code",
   "execution_count": 12,
   "id": "143cf841",
   "metadata": {},
   "outputs": [
    {
     "data": {
      "image/png": "[encoded data removed]",
      "text/plain": [
       "<Figure size 640x480 with 1 Axes>"
      ]
     },
     "metadata": {},
     "output_type": "display_data"
    }
   ],
   "source": [
    "plt.pie(df['Relative Frequency'], labels=df['Year'])\n",
    "plt.show()"
   ]
  },
  {
   "cell_type": "code",
   "execution_count": 13,
   "id": "f15cbcac",
   "metadata": {},
   "outputs": [
    {
     "data": {
      "text/plain": [
       "45.833333333333336"
      ]
     },
     "execution_count": 13,
     "metadata": {},
     "output_type": "execute_result"
    }
   ],
   "source": [
    "\"\"\"\n",
    "From the pie chart, we can infer that 19's accident contribute around 45% whereas\n",
    "After 6 year together contribute 55% so we can say that, airline accident is reduced\n",
    "\"\"\"\n",
    "df[df['Year'] < 2000].iloc[:,2].sum() * 100"
   ]
  },
  {
   "cell_type": "code",
   "execution_count": 14,
   "id": "673a559d",
   "metadata": {},
   "outputs": [],
   "source": [
    "df = datasets['items-lifetime'].copy()"
   ]
  },
  {
   "cell_type": "code",
   "execution_count": 15,
   "id": "8d84233c",
   "metadata": {},
   "outputs": [
    {
     "name": "stdout",
     "output_type": "stream",
     "text": [
      "<class 'pandas.core.frame.DataFrame'>\n",
      "RangeIndex: 200 entries, 0 to 199\n",
      "Data columns (total 1 columns):\n",
      " #   Column         Non-Null Count  Dtype\n",
      "---  ------         --------------  -----\n",
      " 0   Item Lifetime  200 non-null    int64\n",
      "dtypes: int64(1)\n",
      "memory usage: 1.7 KB\n"
     ]
    }
   ],
   "source": [
    "df.info()"
   ]
  },
  {
   "cell_type": "code",
   "execution_count": 16,
   "id": "61c508c6",
   "metadata": {},
   "outputs": [
    {
     "data": {
      "text/plain": [
       "(Item Lifetime    521\n",
       " dtype: int64,\n",
       " Item Lifetime    1425\n",
       " dtype: int64)"
      ]
     },
     "execution_count": 16,
     "metadata": {},
     "output_type": "execute_result"
    }
   ],
   "source": [
    "\"\"\"\n",
    "If the number of distinct value is large, then use class intervals\n",
    "\"\"\"\n",
    "df.min(), df.max()"
   ]
  },
  {
   "cell_type": "code",
   "execution_count": 17,
   "id": "402154ec",
   "metadata": {},
   "outputs": [
    {
     "data": {
      "image/png": "[encoded data removed]",
      "text/plain": [
       "<Figure size 640x480 with 1 Axes>"
      ]
     },
     "metadata": {},
     "output_type": "display_data"
    }
   ],
   "source": [
    "\"\"\"\n",
    "Range(521, 1425) can split into 10 bins\n",
    "\"\"\"\n",
    "plt.hist(df.iloc[:,0], bins=10)\n",
    "plt.show()"
   ]
  },
  {
   "cell_type": "code",
   "execution_count": 19,
   "id": "f577538f",
   "metadata": {},
   "outputs": [
    {
     "data": {
      "text/html": [
       "<div>\n",
       "<style scoped>\n",
       "    .dataframe tbody tr th:only-of-type {\n",
       "        vertical-align: middle;\n",
       "    }\n",
       "\n",
       "    .dataframe tbody tr th {\n",
       "        vertical-align: top;\n",
       "    }\n",
       "\n",
       "    .dataframe thead th {\n",
       "        text-align: right;\n",
       "    }\n",
       "</style>\n",
       "<table border=\"1\" class=\"dataframe\">\n",
       "  <thead>\n",
       "    <tr style=\"text-align: right;\">\n",
       "      <th></th>\n",
       "      <th>Item Lifetime</th>\n",
       "    </tr>\n",
       "  </thead>\n",
       "  <tbody>\n",
       "    <tr>\n",
       "      <th>count</th>\n",
       "      <td>200.000000</td>\n",
       "    </tr>\n",
       "    <tr>\n",
       "      <th>mean</th>\n",
       "      <td>998.130000</td>\n",
       "    </tr>\n",
       "    <tr>\n",
       "      <th>std</th>\n",
       "      <td>157.862459</td>\n",
       "    </tr>\n",
       "    <tr>\n",
       "      <th>min</th>\n",
       "      <td>521.000000</td>\n",
       "    </tr>\n",
       "    <tr>\n",
       "      <th>25%</th>\n",
       "      <td>909.750000</td>\n",
       "    </tr>\n",
       "    <tr>\n",
       "      <th>50%</th>\n",
       "      <td>997.000000</td>\n",
       "    </tr>\n",
       "    <tr>\n",
       "      <th>75%</th>\n",
       "      <td>1107.000000</td>\n",
       "    </tr>\n",
       "    <tr>\n",
       "      <th>max</th>\n",
       "      <td>1425.000000</td>\n",
       "    </tr>\n",
       "  </tbody>\n",
       "</table>\n",
       "</div>"
      ],
      "text/plain": [
       "       Item Lifetime\n",
       "count     200.000000\n",
       "mean      998.130000\n",
       "std       157.862459\n",
       "min       521.000000\n",
       "25%       909.750000\n",
       "50%       997.000000\n",
       "75%      1107.000000\n",
       "max      1425.000000"
      ]
     },
     "execution_count": 19,
     "metadata": {},
     "output_type": "execute_result"
    }
   ],
   "source": [
    "\"\"\"\n",
    "From the graph, we can infer that the distribution is approximately normal\n",
    "\n",
    "sample median = sample mean (approx.)\n",
    "\"\"\"\n",
    "df.describe()"
   ]
  },
  {
   "cell_type": "code",
   "execution_count": 20,
   "id": "4f56ac80",
   "metadata": {},
   "outputs": [
    {
     "data": {
      "image/png": "[encoded data removed]",
      "text/plain": [
       "<Figure size 640x480 with 1 Axes>"
      ]
     },
     "metadata": {},
     "output_type": "display_data"
    }
   ],
   "source": [
    "\"\"\"\n",
    "Box-Whisker plot is a graphically representation of quantiles\n",
    "    Length of Box = Interquantile Range (Q3 - Q1)\n",
    "    Length of Whisker = 1.5 * IQR\n",
    "\"\"\"\n",
    "plt.boxplot(df['Item Lifetime'])\n",
    "plt.show()"
   ]
  },
  {
   "cell_type": "code",
   "execution_count": 21,
   "id": "0e3ac3f2",
   "metadata": {},
   "outputs": [],
   "source": [
    "\"\"\"\n",
    "Cummulative Frequency\n",
    "\"\"\"\n",
    "df2 = pd.DataFrame(\n",
    "    df['Item Lifetime'].value_counts().sort_index().items(), \n",
    "    columns=['Item Lifetime','Frequency'])"
   ]
  },
  {
   "cell_type": "code",
   "execution_count": 22,
   "id": "f54c1ca4",
   "metadata": {},
   "outputs": [],
   "source": [
    "df2['Cummulative Frequency'] = df2['Frequency'].cumsum() / df2['Frequency'].sum() * 100"
   ]
  },
  {
   "cell_type": "code",
   "execution_count": 23,
   "id": "ce3795a4",
   "metadata": {},
   "outputs": [
    {
     "data": {
      "image/png": "[encoded data removed]",
      "text/plain": [
       "<Figure size 640x480 with 1 Axes>"
      ]
     },
     "metadata": {},
     "output_type": "display_data"
    }
   ],
   "source": [
    "\"\"\"\n",
    "Relative Cummulative Frequency plot can be used to find the percentiles\n",
    "\"\"\"\n",
    "plt.plot(df2['Item Lifetime'], df2['Cummulative Frequency'])\n",
    "plt.show()"
   ]
  },
  {
   "cell_type": "code",
   "execution_count": 24,
   "id": "964e7cd3",
   "metadata": {},
   "outputs": [],
   "source": [
    "\"\"\"\n",
    "Chebyshev's inequality (for any distribution)\n",
    "|S_k| / n > 1 - (1 / k**2) where, S_k be i: abs(xi - x_mean) < ks\n",
    "\n",
    "There is also one-sided inequality\n",
    "|N_k| / n <= 1 / (1 + k**2) where, N_k be i: xi - x_mean >= ks\n",
    "\"\"\"\n",
    "k = 1.5"
   ]
  },
  {
   "cell_type": "code",
   "execution_count": 25,
   "id": "c30f36e3",
   "metadata": {},
   "outputs": [],
   "source": [
    "x = df['Item Lifetime'].values"
   ]
  },
  {
   "cell_type": "code",
   "execution_count": 26,
   "id": "efd0e159",
   "metadata": {},
   "outputs": [
    {
     "data": {
      "text/plain": [
       "(200,)"
      ]
     },
     "execution_count": 26,
     "metadata": {},
     "output_type": "execute_result"
    }
   ],
   "source": [
    "x.shape"
   ]
  },
  {
   "cell_type": "code",
   "execution_count": 29,
   "id": "76261188",
   "metadata": {},
   "outputs": [
    {
     "data": {
      "text/plain": [
       "(998.13, 157.46730803566814)"
      ]
     },
     "execution_count": 29,
     "metadata": {},
     "output_type": "execute_result"
    }
   ],
   "source": [
    "m_x, s_x = np.mean(x), np.std(x)\n",
    "m_x, s_x"
   ]
  },
  {
   "cell_type": "code",
   "execution_count": 30,
   "id": "f6fa55e8",
   "metadata": {},
   "outputs": [
    {
     "data": {
      "text/plain": [
       "(761.9290379464978, 1234.3309620535022)"
      ]
     },
     "execution_count": 30,
     "metadata": {},
     "output_type": "execute_result"
    }
   ],
   "source": [
    "rng = m_x - k*s_x, m_x + k*s_x\n",
    "rng"
   ]
  },
  {
   "cell_type": "code",
   "execution_count": 31,
   "id": "6f21ac16",
   "metadata": {},
   "outputs": [
    {
     "data": {
      "text/plain": [
       "111"
      ]
     },
     "execution_count": 31,
     "metadata": {},
     "output_type": "execute_result"
    }
   ],
   "source": [
    "\"\"\"\n",
    "By Chebyshev inequality, number of values in rng (761, 1234) should be greater than\n",
    "111\n",
    "\"\"\"\n",
    "round((1 - 1 / k**2) * x.size)"
   ]
  },
  {
   "cell_type": "code",
   "execution_count": 32,
   "id": "64c3f129",
   "metadata": {},
   "outputs": [
    {
     "data": {
      "text/plain": [
       "175"
      ]
     },
     "execution_count": 32,
     "metadata": {},
     "output_type": "execute_result"
    }
   ],
   "source": [
    "\"\"\"\n",
    "175 > 111, Chebyshev's inequality holds\n",
    "\"\"\"\n",
    "np.count_nonzero((x > rng[0]) & (x < rng[1]))"
   ]
  },
  {
   "cell_type": "code",
   "execution_count": 33,
   "id": "4bf10c44",
   "metadata": {},
   "outputs": [
    {
     "data": {
      "text/plain": [
       "62"
      ]
     },
     "execution_count": 33,
     "metadata": {},
     "output_type": "execute_result"
    }
   ],
   "source": [
    "\"\"\"\n",
    "Now, let's verify the one-sided inequality\n",
    "|N_k| / n <= 1 / (1 + k**2)\n",
    "\"\"\"\n",
    "round((1 / (1 + k**2)) * x.size)"
   ]
  },
  {
   "cell_type": "code",
   "execution_count": 34,
   "id": "567d3443",
   "metadata": {},
   "outputs": [
    {
     "data": {
      "text/plain": [
       "12"
      ]
     },
     "execution_count": 34,
     "metadata": {},
     "output_type": "execute_result"
    }
   ],
   "source": [
    "\"\"\"\n",
    "12 <= 62, Chebyshev's one-sided inequality also holds\n",
    "\"\"\"\n",
    "np.count_nonzero(x >= rng[1])"
   ]
  }
 ],
 "metadata": {
  "kernelspec": {
   "display_name": "Python 3 (ipykernel)",
   "language": "python",
   "name": "python3"
  },
  "language_info": {
   "codemirror_mode": {
    "name": "ipython",
    "version": 3
   },
   "file_extension": ".py",
   "mimetype": "text/x-python",
   "name": "python",
   "nbconvert_exporter": "python",
   "pygments_lexer": "ipython3",
   "version": "3.11.3"
  }
 },
 "nbformat": 4,
 "nbformat_minor": 5
}
