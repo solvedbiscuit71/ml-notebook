{
 "cells": [
  {
   "cell_type": "code",
   "execution_count": 1,
   "id": "8557498f",
   "metadata": {},
   "outputs": [],
   "source": [
    "import numpy as np\n",
    "import pandas as pd"
   ]
  },
  {
   "cell_type": "code",
   "execution_count": 2,
   "id": "8ff41446",
   "metadata": {},
   "outputs": [],
   "source": [
    "import os, re\n",
    "root_path = re.sub('Stats','Dataset'+os.sep, os.getcwd())"
   ]
  },
  {
   "cell_type": "code",
   "execution_count": 3,
   "id": "37ef7c24",
   "metadata": {},
   "outputs": [],
   "source": [
    "accidents = pd.read_csv(root_path + 'airline-accidents.csv')"
   ]
  },
  {
   "cell_type": "code",
   "execution_count": 4,
   "id": "821c7787",
   "metadata": {},
   "outputs": [
    {
     "data": {
      "text/html": [
       "<div>\n",
       "<style scoped>\n",
       "    .dataframe tbody tr th:only-of-type {\n",
       "        vertical-align: middle;\n",
       "    }\n",
       "\n",
       "    .dataframe tbody tr th {\n",
       "        vertical-align: top;\n",
       "    }\n",
       "\n",
       "    .dataframe thead th {\n",
       "        text-align: right;\n",
       "    }\n",
       "</style>\n",
       "<table border=\"1\" class=\"dataframe\">\n",
       "  <thead>\n",
       "    <tr style=\"text-align: right;\">\n",
       "      <th></th>\n",
       "      <th>Year</th>\n",
       "      <th>Accidents</th>\n",
       "    </tr>\n",
       "  </thead>\n",
       "  <tbody>\n",
       "    <tr>\n",
       "      <th>0</th>\n",
       "      <td>1997</td>\n",
       "      <td>25</td>\n",
       "    </tr>\n",
       "    <tr>\n",
       "      <th>1</th>\n",
       "      <td>1998</td>\n",
       "      <td>20</td>\n",
       "    </tr>\n",
       "    <tr>\n",
       "      <th>2</th>\n",
       "      <td>1999</td>\n",
       "      <td>21</td>\n",
       "    </tr>\n",
       "    <tr>\n",
       "      <th>3</th>\n",
       "      <td>2000</td>\n",
       "      <td>18</td>\n",
       "    </tr>\n",
       "    <tr>\n",
       "      <th>4</th>\n",
       "      <td>2001</td>\n",
       "      <td>13</td>\n",
       "    </tr>\n",
       "    <tr>\n",
       "      <th>5</th>\n",
       "      <td>2002</td>\n",
       "      <td>13</td>\n",
       "    </tr>\n",
       "    <tr>\n",
       "      <th>6</th>\n",
       "      <td>2003</td>\n",
       "      <td>7</td>\n",
       "    </tr>\n",
       "    <tr>\n",
       "      <th>7</th>\n",
       "      <td>2004</td>\n",
       "      <td>9</td>\n",
       "    </tr>\n",
       "    <tr>\n",
       "      <th>8</th>\n",
       "      <td>2005</td>\n",
       "      <td>18</td>\n",
       "    </tr>\n",
       "  </tbody>\n",
       "</table>\n",
       "</div>"
      ],
      "text/plain": [
       "   Year  Accidents\n",
       "0  1997         25\n",
       "1  1998         20\n",
       "2  1999         21\n",
       "3  2000         18\n",
       "4  2001         13\n",
       "5  2002         13\n",
       "6  2003          7\n",
       "7  2004          9\n",
       "8  2005         18"
      ]
     },
     "execution_count": 4,
     "metadata": {},
     "output_type": "execute_result"
    }
   ],
   "source": [
    "accidents"
   ]
  },
  {
   "cell_type": "markdown",
   "id": "6499bbc3",
   "metadata": {},
   "source": [
    "**Sample Variance**\n",
    "\n",
    "$ s^2 = \\sum_{i=1}^{k} \\frac{(x_i - \\overline{x})}{n-1} $"
   ]
  },
  {
   "cell_type": "code",
   "execution_count": 5,
   "id": "a69a4ccd",
   "metadata": {},
   "outputs": [],
   "source": [
    "def variance(x):\n",
    "    var = 0\n",
    "    x_mean = np.mean(x)\n",
    "    n = x.size\n",
    "    \n",
    "    for xi in x:\n",
    "        var += (xi - x_mean) ** 2\n",
    "    return var / (n-1)"
   ]
  },
  {
   "cell_type": "code",
   "execution_count": 6,
   "id": "8d123a48",
   "metadata": {},
   "outputs": [
    {
     "data": {
      "text/plain": [
       "34.75"
      ]
     },
     "execution_count": 6,
     "metadata": {},
     "output_type": "execute_result"
    }
   ],
   "source": [
    "variance(accidents['Accidents'])"
   ]
  },
  {
   "cell_type": "markdown",
   "id": "a21036d5",
   "metadata": {},
   "source": [
    "There is another way to compute the variance which uses the algebraic identity\n",
    "\n",
    "$ s^2 = \\frac{1}{n-1} \\sum_{i=1}^{n} x_i^{2} - n \\overline{x}^2 $"
   ]
  },
  {
   "cell_type": "code",
   "execution_count": 7,
   "id": "ee6ea716",
   "metadata": {},
   "outputs": [],
   "source": [
    "def variance2(x):\n",
    "    var = 0\n",
    "    x_mean = np.mean(x)\n",
    "    n = x.size\n",
    "    \n",
    "    for xi in x:\n",
    "        var += xi ** 2\n",
    "    var -= n*x_mean**2\n",
    "    return var / (n-1)"
   ]
  },
  {
   "cell_type": "code",
   "execution_count": 8,
   "id": "857a7c1f",
   "metadata": {},
   "outputs": [
    {
     "data": {
      "text/plain": [
       "34.75"
      ]
     },
     "execution_count": 8,
     "metadata": {},
     "output_type": "execute_result"
    }
   ],
   "source": [
    "variance2(accidents['Accidents'])"
   ]
  },
  {
   "cell_type": "markdown",
   "id": "855200ba",
   "metadata": {},
   "source": [
    "**Sample Standard Deviation**\n",
    "\n",
    "$ s = \\sqrt{\\sum_{i=1}^{k} \\frac{(x_i - \\overline{x})}{n-1}} $"
   ]
  },
  {
   "cell_type": "code",
   "execution_count": 9,
   "id": "d0a70426",
   "metadata": {},
   "outputs": [],
   "source": [
    "def std_deviation(x):\n",
    "    return np.sqrt(variance(x))"
   ]
  },
  {
   "cell_type": "code",
   "execution_count": 10,
   "id": "d474f82b",
   "metadata": {},
   "outputs": [
    {
     "data": {
      "text/plain": [
       "5.894913061275798"
      ]
     },
     "execution_count": 10,
     "metadata": {},
     "output_type": "execute_result"
    }
   ],
   "source": [
    "std_deviation(accidents['Accidents'])"
   ]
  },
  {
   "cell_type": "markdown",
   "id": "6ca14f0d",
   "metadata": {},
   "source": [
    "**NOTE:** These two statistics are used to describe about the spread of the data values around the mean."
   ]
  }
 ],
 "metadata": {
  "kernelspec": {
   "display_name": "Python 3 (ipykernel)",
   "language": "python",
   "name": "python3"
  },
  "language_info": {
   "codemirror_mode": {
    "name": "ipython",
    "version": 3
   },
   "file_extension": ".py",
   "mimetype": "text/x-python",
   "name": "python",
   "nbconvert_exporter": "python",
   "pygments_lexer": "ipython3",
   "version": "3.11.3"
  }
 },
 "nbformat": 4,
 "nbformat_minor": 5
}
