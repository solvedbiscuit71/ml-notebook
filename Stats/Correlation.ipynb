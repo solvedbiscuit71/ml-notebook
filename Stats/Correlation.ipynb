{
 "cells": [
  {
   "cell_type": "code",
   "execution_count": 1,
   "id": "5e075341",
   "metadata": {},
   "outputs": [],
   "source": [
    "import os\n",
    "\n",
    "import numpy as np\n",
    "import pandas as pd\n",
    "import matplotlib.pyplot as plt"
   ]
  },
  {
   "cell_type": "code",
   "execution_count": 2,
   "id": "0b44a2a8",
   "metadata": {},
   "outputs": [],
   "source": [
    "root_path = os.getcwd().replace('Stats', 'Dataset'+os.sep)\n",
    "for root,dirs,files in os.walk(root_path):\n",
    "    if root == root_path:\n",
    "        datasets = files"
   ]
  },
  {
   "cell_type": "code",
   "execution_count": 3,
   "id": "a54b4810",
   "metadata": {},
   "outputs": [],
   "source": [
    "datasets = {\n",
    "    dataset[:dataset.index('.')] : pd.read_csv(root_path + dataset) \n",
    "    for dataset in datasets\n",
    "}"
   ]
  },
  {
   "cell_type": "code",
   "execution_count": 4,
   "id": "06ee926a",
   "metadata": {},
   "outputs": [
    {
     "data": {
      "text/plain": [
       "dict_keys(['starting-salary', 'noise-level', 'cancer-cases', 'insurance', 'temperature-defects', 'airline-accidents', 'items-lifetime'])"
      ]
     },
     "execution_count": 4,
     "metadata": {},
     "output_type": "execute_result"
    }
   ],
   "source": [
    "datasets.keys()"
   ]
  },
  {
   "cell_type": "code",
   "execution_count": 5,
   "id": "72f7c78a",
   "metadata": {},
   "outputs": [],
   "source": [
    "df = datasets['temperature-defects'].copy()"
   ]
  },
  {
   "cell_type": "code",
   "execution_count": 6,
   "id": "276fd804",
   "metadata": {},
   "outputs": [
    {
     "data": {
      "text/html": [
       "<div>\n",
       "<style scoped>\n",
       "    .dataframe tbody tr th:only-of-type {\n",
       "        vertical-align: middle;\n",
       "    }\n",
       "\n",
       "    .dataframe tbody tr th {\n",
       "        vertical-align: top;\n",
       "    }\n",
       "\n",
       "    .dataframe thead th {\n",
       "        text-align: right;\n",
       "    }\n",
       "</style>\n",
       "<table border=\"1\" class=\"dataframe\">\n",
       "  <thead>\n",
       "    <tr style=\"text-align: right;\">\n",
       "      <th></th>\n",
       "      <th>Temperature</th>\n",
       "      <th>Number of Defects</th>\n",
       "    </tr>\n",
       "  </thead>\n",
       "  <tbody>\n",
       "    <tr>\n",
       "      <th>0</th>\n",
       "      <td>24.2</td>\n",
       "      <td>25</td>\n",
       "    </tr>\n",
       "    <tr>\n",
       "      <th>1</th>\n",
       "      <td>22.7</td>\n",
       "      <td>31</td>\n",
       "    </tr>\n",
       "    <tr>\n",
       "      <th>2</th>\n",
       "      <td>30.5</td>\n",
       "      <td>36</td>\n",
       "    </tr>\n",
       "    <tr>\n",
       "      <th>3</th>\n",
       "      <td>28.6</td>\n",
       "      <td>33</td>\n",
       "    </tr>\n",
       "    <tr>\n",
       "      <th>4</th>\n",
       "      <td>25.5</td>\n",
       "      <td>19</td>\n",
       "    </tr>\n",
       "  </tbody>\n",
       "</table>\n",
       "</div>"
      ],
      "text/plain": [
       "   Temperature  Number of Defects\n",
       "0         24.2                 25\n",
       "1         22.7                 31\n",
       "2         30.5                 36\n",
       "3         28.6                 33\n",
       "4         25.5                 19"
      ]
     },
     "execution_count": 6,
     "metadata": {},
     "output_type": "execute_result"
    }
   ],
   "source": [
    "df.head()"
   ]
  },
  {
   "cell_type": "code",
   "execution_count": 7,
   "id": "6ece825b",
   "metadata": {},
   "outputs": [
    {
     "data": {
      "text/plain": [
       "<matplotlib.collections.PathCollection at 0x1377e8350>"
      ]
     },
     "execution_count": 7,
     "metadata": {},
     "output_type": "execute_result"
    },
    {
     "data": {
      "image/png": "[encoded data removed]",
      "text/plain": [
       "<Figure size 640x480 with 1 Axes>"
      ]
     },
     "metadata": {},
     "output_type": "display_data"
    }
   ],
   "source": [
    "plt.scatter(df['Temperature'], df['Number of Defects'], marker='x')"
   ]
  },
  {
   "cell_type": "code",
   "execution_count": 8,
   "id": "4475b58d",
   "metadata": {},
   "outputs": [],
   "source": [
    "\"\"\"\n",
    "Sample Correlation Coefficient (R)\n",
    "- statistic use to quantity the *linear* correlation between two variable\n",
    "\n",
    "covariance = Summation { (x_i - x_mean) * (y_i - y_mean) }\n",
    "and we standardised by dividing it with (n-1) * s_x * s_y\n",
    "\"\"\"\n",
    "def corel(x: np.ndarray, y: np.ndarray):\n",
    "    n = x.size\n",
    "    x_m, y_m = np.mean(x), np.mean(y)\n",
    "    s_x, s_y = np.std(x, ddof=1), np.std(y, ddof=1)\n",
    "    \n",
    "    covar = 0\n",
    "    for xi, yi in zip(x, y):\n",
    "        covar += (xi-x_m) * (yi-y_m)\n",
    "    return covar / ((n - 1) * s_x * s_y)"
   ]
  },
  {
   "cell_type": "code",
   "execution_count": 9,
   "id": "e4464db1",
   "metadata": {},
   "outputs": [
    {
     "data": {
      "text/plain": [
       "0.4189439540499162"
      ]
     },
     "execution_count": 9,
     "metadata": {},
     "output_type": "execute_result"
    }
   ],
   "source": [
    "\"\"\"\n",
    "i) -1 <= R <= 1\n",
    "ii) |R| = 1 means the relation 100% linear and straight line passed through all data value\n",
    "iii) |R| = 0 means no correlation\n",
    "iv) sign indicates the either +ve or -ve trend\n",
    "\n",
    "Therefore, this shows a weak correlation between daily temperature and number of defects\n",
    "\"\"\"\n",
    "corel(df['Temperature'].values, df['Number of Defects'].values)"
   ]
  },
  {
   "cell_type": "code",
   "execution_count": 10,
   "id": "e4bd0745",
   "metadata": {},
   "outputs": [],
   "source": [
    "x, y = df['Temperature'].values, df['Number of Defects'].values"
   ]
  },
  {
   "cell_type": "code",
   "execution_count": 11,
   "id": "053a019b",
   "metadata": {},
   "outputs": [
    {
     "data": {
      "text/plain": [
       "[<matplotlib.lines.Line2D at 0x1378c1e50>]"
      ]
     },
     "execution_count": 11,
     "metadata": {},
     "output_type": "execute_result"
    },
    {
     "data": {
      "image/png": "[encoded data removed]",
      "text/plain": [
       "<Figure size 640x480 with 1 Axes>"
      ]
     },
     "metadata": {},
     "output_type": "display_data"
    }
   ],
   "source": [
    "\"\"\"\n",
    "The values in I and III quadrant corresponds +ve values and II and IV quadrant correspond\n",
    "-ve values and cancels out thus, reducing the R value\n",
    "\"\"\"\n",
    "plt.scatter(x, y, marker='x')\n",
    "plt.plot([20,35], [np.mean(y)]*2, 'r:')\n",
    "plt.plot([np.mean(x)]*2, [10,40], 'r:')"
   ]
  },
  {
   "cell_type": "code",
   "execution_count": 12,
   "id": "13c4d32a",
   "metadata": {},
   "outputs": [],
   "source": [
    "\"\"\"\n",
    "Correlation measures association, not causation\n",
    "\"\"\"\n",
    "\n",
    "x = np.array([12,16,13,18,19,12,18,19,12,14]) # Years of School\n",
    "y = np.array([73,67,74,63,73,84,60,62,76,71]) # Pulse rate"
   ]
  },
  {
   "cell_type": "code",
   "execution_count": 13,
   "id": "a251fe1d",
   "metadata": {},
   "outputs": [
    {
     "data": {
      "text/plain": [
       "[<matplotlib.lines.Line2D at 0x1378e5690>]"
      ]
     },
     "execution_count": 13,
     "metadata": {},
     "output_type": "execute_result"
    },
    {
     "data": {
      "image/png": "[encoded data removed]",
      "text/plain": [
       "<Figure size 640x480 with 1 Axes>"
      ]
     },
     "metadata": {},
     "output_type": "display_data"
    }
   ],
   "source": [
    "plt.scatter(x, y, marker='x')\n",
    "plt.plot([12,20], [np.mean(y)]*2, 'r:')\n",
    "plt.plot([np.mean(x)]*2, [50,90], 'r:')"
   ]
  },
  {
   "cell_type": "code",
   "execution_count": 14,
   "id": "03156278",
   "metadata": {},
   "outputs": [
    {
     "data": {
      "text/plain": [
       "0.7638032518472291"
      ]
     },
     "execution_count": 14,
     "metadata": {},
     "output_type": "execute_result"
    }
   ],
   "source": [
    "\"\"\"\n",
    "Correlation of 0.76 indicates a good correlation between years of school and pulse rate\n",
    "\n",
    "Causation: we can't conclude additional year of school lead to lower pulse rate\n",
    "Association: we can conclude additional year of school tend to pair with lower pulse rate\n",
    "\"\"\"\n",
    "abs(corel(x, y))"
   ]
  }
 ],
 "metadata": {
  "kernelspec": {
   "display_name": "Python 3 (ipykernel)",
   "language": "python",
   "name": "python3"
  },
  "language_info": {
   "codemirror_mode": {
    "name": "ipython",
    "version": 3
   },
   "file_extension": ".py",
   "mimetype": "text/x-python",
   "name": "python",
   "nbconvert_exporter": "python",
   "pygments_lexer": "ipython3",
   "version": "3.11.3"
  }
 },
 "nbformat": 4,
 "nbformat_minor": 5
}
