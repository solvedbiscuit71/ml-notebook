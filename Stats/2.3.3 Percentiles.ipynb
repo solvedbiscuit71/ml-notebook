{
 "cells": [
  {
   "cell_type": "code",
   "execution_count": 1,
   "id": "fe329cda",
   "metadata": {},
   "outputs": [],
   "source": [
    "import numpy as np\n",
    "import pandas as pd"
   ]
  },
  {
   "cell_type": "code",
   "execution_count": 2,
   "id": "7a821cd2",
   "metadata": {},
   "outputs": [],
   "source": [
    "import os, re\n",
    "root_path = re.sub('Stats', 'Dataset'+os.sep, os.getcwd())"
   ]
  },
  {
   "cell_type": "code",
   "execution_count": 3,
   "id": "c2924c0f",
   "metadata": {},
   "outputs": [],
   "source": [
    "noise = pd.read_csv(root_path + 'noise-level.csv')"
   ]
  },
  {
   "cell_type": "code",
   "execution_count": 4,
   "id": "65a4659e",
   "metadata": {},
   "outputs": [
    {
     "data": {
      "text/html": [
       "<div>\n",
       "<style scoped>\n",
       "    .dataframe tbody tr th:only-of-type {\n",
       "        vertical-align: middle;\n",
       "    }\n",
       "\n",
       "    .dataframe tbody tr th {\n",
       "        vertical-align: top;\n",
       "    }\n",
       "\n",
       "    .dataframe thead th {\n",
       "        text-align: right;\n",
       "    }\n",
       "</style>\n",
       "<table border=\"1\" class=\"dataframe\">\n",
       "  <thead>\n",
       "    <tr style=\"text-align: right;\">\n",
       "      <th></th>\n",
       "      <th>Noise Level (in dB)</th>\n",
       "    </tr>\n",
       "  </thead>\n",
       "  <tbody>\n",
       "    <tr>\n",
       "      <th>0</th>\n",
       "      <td>82</td>\n",
       "    </tr>\n",
       "    <tr>\n",
       "      <th>1</th>\n",
       "      <td>89</td>\n",
       "    </tr>\n",
       "    <tr>\n",
       "      <th>2</th>\n",
       "      <td>94</td>\n",
       "    </tr>\n",
       "    <tr>\n",
       "      <th>3</th>\n",
       "      <td>110</td>\n",
       "    </tr>\n",
       "    <tr>\n",
       "      <th>4</th>\n",
       "      <td>74</td>\n",
       "    </tr>\n",
       "  </tbody>\n",
       "</table>\n",
       "</div>"
      ],
      "text/plain": [
       "   Noise Level (in dB)\n",
       "0                   82\n",
       "1                   89\n",
       "2                   94\n",
       "3                  110\n",
       "4                   74"
      ]
     },
     "execution_count": 4,
     "metadata": {},
     "output_type": "execute_result"
    }
   ],
   "source": [
    "noise.head()"
   ]
  },
  {
   "cell_type": "markdown",
   "id": "313a9d86",
   "metadata": {},
   "source": [
    "**Percentile**\n",
    "\n",
    "The sample 100p percentile is defined as\n",
    "- atleast $np$ percent of the data is less than or equal\n",
    "- atleast $n(1-p)$ percent of the data is greater than or equal"
   ]
  },
  {
   "cell_type": "code",
   "execution_count": 5,
   "id": "b975effd",
   "metadata": {},
   "outputs": [],
   "source": [
    "def percentile(x, p):\n",
    "    import math\n",
    "    \n",
    "    n = x.size\n",
    "    np = n * p / 100\n",
    "    i = math.ceil(np) - 1\n",
    "    \n",
    "    if np.is_integer():\n",
    "        return (x[i] + x[i+1]) / 2\n",
    "    else:\n",
    "        return x[i]"
   ]
  },
  {
   "cell_type": "code",
   "execution_count": 6,
   "id": "9daef6d4",
   "metadata": {},
   "outputs": [],
   "source": [
    "x = np.sort(noise['Noise Level (in dB)'].values)"
   ]
  },
  {
   "cell_type": "code",
   "execution_count": 7,
   "id": "82fa047c",
   "metadata": {},
   "outputs": [
    {
     "data": {
      "text/plain": [
       "array([ 60,  65,  65,  68,  69,  72,  74,  74,  75,  77,  78,  82,  83,\n",
       "        83,  85,  87,  88,  89,  90,  90,  91,  94,  94,  95,  97, 100,\n",
       "       102, 107, 108, 110, 112, 114, 115, 122, 124, 125])"
      ]
     },
     "execution_count": 7,
     "metadata": {},
     "output_type": "execute_result"
    }
   ],
   "source": [
    "x"
   ]
  },
  {
   "cell_type": "code",
   "execution_count": 8,
   "id": "a46ae969",
   "metadata": {},
   "outputs": [
    {
     "name": "stdout",
     "output_type": "stream",
     "text": [
      "1%: 60\n",
      "25%: 76.0\n",
      "50%: 89.5\n",
      "75%: 104.5\n",
      "99%: 125\n"
     ]
    }
   ],
   "source": [
    "for p in (1,25,50,75,99):\n",
    "    print(f\"{p}%: {percentile(x,p)}\")"
   ]
  },
  {
   "cell_type": "markdown",
   "id": "d59e7f25",
   "metadata": {},
   "source": [
    "**Quantile**\n",
    "\n",
    "1. first quantile is 25 percentile\n",
    "2. second quantile is 50 percentile (a.k.a median)\n",
    "3. third quantile is 75 percentile"
   ]
  },
  {
   "cell_type": "code",
   "execution_count": 9,
   "id": "d76f0da9",
   "metadata": {},
   "outputs": [],
   "source": [
    "import matplotlib.pyplot as plt"
   ]
  },
  {
   "cell_type": "code",
   "execution_count": 10,
   "id": "52261b4a",
   "metadata": {},
   "outputs": [
    {
     "data": {
      "image/png": "[encoded data removed]",
      "text/plain": [
       "<Figure size 640x480 with 1 Axes>"
      ]
     },
     "metadata": {},
     "output_type": "display_data"
    }
   ],
   "source": [
    "plt.boxplot(x)\n",
    "plt.show()"
   ]
  },
  {
   "cell_type": "markdown",
   "id": "6ad43d67",
   "metadata": {},
   "source": [
    "**Box-Whisker plot**\n",
    "\n",
    "The Box Whisker plot is a graphical summary of (min, Q1, Q2, Q3, max)"
   ]
  },
  {
   "cell_type": "code",
   "execution_count": 11,
   "id": "54f96964",
   "metadata": {},
   "outputs": [
    {
     "name": "stdout",
     "output_type": "stream",
     "text": [
      "Range: 65\n",
      "Interquantile Range: 28.5\n"
     ]
    }
   ],
   "source": [
    "print(f\"Range: {percentile(x,99) - percentile(x,1)}\")\n",
    "print(f\"Interquantile Range: {percentile(x,75) - percentile(x,25)}\")"
   ]
  }
 ],
 "metadata": {
  "kernelspec": {
   "display_name": "Python 3 (ipykernel)",
   "language": "python",
   "name": "python3"
  },
  "language_info": {
   "codemirror_mode": {
    "name": "ipython",
    "version": 3
   },
   "file_extension": ".py",
   "mimetype": "text/x-python",
   "name": "python",
   "nbconvert_exporter": "python",
   "pygments_lexer": "ipython3",
   "version": "3.11.3"
  }
 },
 "nbformat": 4,
 "nbformat_minor": 5
}
