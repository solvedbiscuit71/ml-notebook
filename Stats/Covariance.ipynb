{
 "cells": [
  {
   "cell_type": "code",
   "execution_count": 1,
   "id": "74394dad",
   "metadata": {},
   "outputs": [],
   "source": [
    "import os, re\n",
    "import numpy as np"
   ]
  },
  {
   "cell_type": "code",
   "execution_count": 3,
   "id": "07755695",
   "metadata": {},
   "outputs": [],
   "source": [
    "data_set_path = re.sub('Stats', 'Dataset' + os.sep + 'insurance.csv', os.getcwd())"
   ]
  },
  {
   "cell_type": "code",
   "execution_count": 5,
   "id": "f7bd5494",
   "metadata": {},
   "outputs": [],
   "source": [
    "data_set = np.loadtxt(data_set_path, delimiter=',', skiprows=1, usecols=[1,2])"
   ]
  },
  {
   "cell_type": "code",
   "execution_count": 6,
   "id": "c3013354",
   "metadata": {},
   "outputs": [
    {
     "data": {
      "text/plain": [
       "(63, 2)"
      ]
     },
     "execution_count": 6,
     "metadata": {},
     "output_type": "execute_result"
    }
   ],
   "source": [
    "data_set.shape"
   ]
  },
  {
   "cell_type": "markdown",
   "id": "786ec9fe",
   "metadata": {},
   "source": [
    "# Covariance\n",
    "\n",
    "Covariance is the measure of joint variability of two random variables. It has three cases\n",
    "1. Covariance(X, Y) > 0 : positive trend\n",
    "2. Covariance(X, Y) = 0 : no trend\n",
    "3. Covariance(X, Y) < 0 : negative trend"
   ]
  },
  {
   "cell_type": "code",
   "execution_count": 7,
   "id": "1a55e6e4",
   "metadata": {},
   "outputs": [],
   "source": [
    "import matplotlib.pyplot as plt"
   ]
  },
  {
   "cell_type": "code",
   "execution_count": 8,
   "id": "929a805b",
   "metadata": {},
   "outputs": [
    {
     "data": {
      "text/plain": [
       "<matplotlib.collections.PathCollection at 0x1147e5010>"
      ]
     },
     "execution_count": 8,
     "metadata": {},
     "output_type": "execute_result"
    },
    {
     "data": {
      "image/png": "[encoded data removed]",
      "text/plain": [
       "<Figure size 640x480 with 1 Axes>"
      ]
     },
     "metadata": {},
     "output_type": "display_data"
    }
   ],
   "source": [
    "plt.scatter(data_set[:,0], data_set[:,1])"
   ]
  },
  {
   "cell_type": "markdown",
   "id": "e1af7867",
   "metadata": {},
   "source": [
    "From the scatter plot we can conclude that both column 1 and 2 have a **positive trend** thus, there covariance should be positive"
   ]
  },
  {
   "cell_type": "markdown",
   "id": "fa97fd66",
   "metadata": {},
   "source": [
    "covariance = $\\frac{1}{N} \\displaystyle\\sum_{i=1}^{N} (x_i - \\overline{x})(y_i - \\overline{y})$"
   ]
  },
  {
   "cell_type": "code",
   "execution_count": 9,
   "id": "bd56d1ed",
   "metadata": {},
   "outputs": [],
   "source": [
    "def covariance(x: np.ndarray, y: np.ndarray):\n",
    "    n = x.size\n",
    "    x_mean = np.mean(x)\n",
    "    y_mean = np.mean(y)\n",
    "    \n",
    "    summation = 0\n",
    "    for xi,yi in zip(x, y):\n",
    "        summation += (xi-x_mean) * (yi-y_mean)\n",
    "    \n",
    "    return summation / n"
   ]
  },
  {
   "cell_type": "code",
   "execution_count": 10,
   "id": "a20b60d7",
   "metadata": {},
   "outputs": [
    {
     "data": {
      "text/plain": [
       "1832.0543461829186"
      ]
     },
     "execution_count": 10,
     "metadata": {},
     "output_type": "execute_result"
    }
   ],
   "source": [
    "covariance(data_set[:,0], data_set[:,1])"
   ]
  },
  {
   "cell_type": "markdown",
   "id": "397da60d",
   "metadata": {},
   "source": [
    "# Correlation\n",
    "\n",
    "Though, *covariance* indicates the trend it is not easy to interpret how strong is the relationship between the two random variables. So, we use *correlation* which is defined as\n",
    "\n",
    "correlation = $\\frac{Cov(x,y)}{\\sigma_x \\sigma_y}$"
   ]
  },
  {
   "cell_type": "code",
   "execution_count": 15,
   "id": "69cb5e4d",
   "metadata": {},
   "outputs": [],
   "source": [
    "def correlation(x: np.ndarray, y: np.ndarray):\n",
    "    return covariance(x, y) / (np.std(x) * np.std(y))"
   ]
  },
  {
   "cell_type": "code",
   "execution_count": 16,
   "id": "9219afb6",
   "metadata": {},
   "outputs": [
    {
     "data": {
      "text/plain": [
       "0.9128782350234071"
      ]
     },
     "execution_count": 16,
     "metadata": {},
     "output_type": "execute_result"
    }
   ],
   "source": [
    "correlation(data_set[:,0], data_set[:,1])"
   ]
  },
  {
   "cell_type": "markdown",
   "id": "1b669085",
   "metadata": {},
   "source": [
    "+ correlation ranges from \\[-1,1\\]\n",
    "+ absolute value of correlation close to 1 means strong relationship\n",
    "+ correlation close to 0 means no relationship"
   ]
  }
 ],
 "metadata": {
  "kernelspec": {
   "display_name": "Python 3 (ipykernel)",
   "language": "python",
   "name": "python3"
  },
  "language_info": {
   "codemirror_mode": {
    "name": "ipython",
    "version": 3
   },
   "file_extension": ".py",
   "mimetype": "text/x-python",
   "name": "python",
   "nbconvert_exporter": "python",
   "pygments_lexer": "ipython3",
   "version": "3.11.3"
  }
 },
 "nbformat": 4,
 "nbformat_minor": 5
}
