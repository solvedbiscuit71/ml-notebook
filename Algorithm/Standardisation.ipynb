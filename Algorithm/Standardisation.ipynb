{
 "cells": [
  {
   "cell_type": "markdown",
   "id": "0548c1e7",
   "metadata": {},
   "source": [
    "# Standardisation\n",
    "\n",
    "**Standardisation** (or **z-score normalization**) is a procedure during which the feature values are rescaled so that they have the properties of a *standard normal distribution* with $\\mu = 0$ and $\\sigma = 1$"
   ]
  },
  {
   "cell_type": "code",
   "execution_count": 2,
   "id": "1e92b0f3",
   "metadata": {},
   "outputs": [],
   "source": [
    "import os, re\n",
    "import numpy as np"
   ]
  },
  {
   "cell_type": "code",
   "execution_count": 4,
   "id": "a84f753c",
   "metadata": {},
   "outputs": [],
   "source": [
    "data_set_path = re.sub('Algorithm', 'Dataset/insurance.csv', os.getcwd())"
   ]
  },
  {
   "cell_type": "code",
   "execution_count": 6,
   "id": "9b212786",
   "metadata": {},
   "outputs": [],
   "source": [
    "data_set = np.loadtxt(data_set_path, delimiter=',', skiprows=1, usecols=[1,2])"
   ]
  },
  {
   "cell_type": "code",
   "execution_count": 7,
   "id": "4be80196",
   "metadata": {},
   "outputs": [
    {
     "data": {
      "text/plain": [
       "(63, 2)"
      ]
     },
     "execution_count": 7,
     "metadata": {},
     "output_type": "execute_result"
    }
   ],
   "source": [
    "data_set.shape"
   ]
  },
  {
   "cell_type": "code",
   "execution_count": 8,
   "id": "ca6b09b6",
   "metadata": {},
   "outputs": [
    {
     "data": {
      "text/plain": [
       "array([0., 0.])"
      ]
     },
     "execution_count": 8,
     "metadata": {},
     "output_type": "execute_result"
    }
   ],
   "source": [
    "np.min(data_set, axis = 0)"
   ]
  },
  {
   "cell_type": "code",
   "execution_count": 9,
   "id": "84285ae0",
   "metadata": {},
   "outputs": [
    {
     "data": {
      "text/plain": [
       "array([124. , 422.2])"
      ]
     },
     "execution_count": 9,
     "metadata": {},
     "output_type": "execute_result"
    }
   ],
   "source": [
    "np.max(data_set, axis = 0)"
   ]
  },
  {
   "cell_type": "markdown",
   "id": "0a41345f",
   "metadata": {},
   "source": [
    "The above `data_set` has two columns with ranges\n",
    "1. column 1 (0, 124)\n",
    "2. column 2 (0, 422)"
   ]
  },
  {
   "cell_type": "code",
   "execution_count": 10,
   "id": "b2226874",
   "metadata": {},
   "outputs": [],
   "source": [
    "def z_score(x):\n",
    "    return (x-np.mean(x)) / np.std(x)"
   ]
  },
  {
   "cell_type": "code",
   "execution_count": 11,
   "id": "3f6be8cd",
   "metadata": {},
   "outputs": [],
   "source": [
    "def standardise(data_set):\n",
    "    for j in range(data_set.shape[1]):\n",
    "        data_set[:,j] = z_score(data_set[:,j])\n",
    "    \n",
    "    return None"
   ]
  },
  {
   "cell_type": "code",
   "execution_count": 12,
   "id": "e5a80ece",
   "metadata": {},
   "outputs": [],
   "source": [
    "standardise(data_set)"
   ]
  },
  {
   "cell_type": "code",
   "execution_count": 13,
   "id": "9c0e63d3",
   "metadata": {},
   "outputs": [
    {
     "data": {
      "text/plain": [
       "array([-0.9887287 , -1.13338762])"
      ]
     },
     "execution_count": 13,
     "metadata": {},
     "output_type": "execute_result"
    }
   ],
   "source": [
    "np.min(data_set, axis = 0)"
   ]
  },
  {
   "cell_type": "code",
   "execution_count": 14,
   "id": "64ad90b3",
   "metadata": {},
   "outputs": [
    {
     "data": {
      "text/plain": [
       "array([4.36397304, 3.74011686])"
      ]
     },
     "execution_count": 14,
     "metadata": {},
     "output_type": "execute_result"
    }
   ],
   "source": [
    "np.max(data_set, axis = 0)"
   ]
  },
  {
   "cell_type": "markdown",
   "id": "47a2a712",
   "metadata": {},
   "source": [
    "After standardisation, the range of the two columns\n",
    "1. column 1 (-0.98, 4.36)\n",
    "2. column 2 (-1.13, 3.74)"
   ]
  },
  {
   "cell_type": "markdown",
   "id": "4c76630f",
   "metadata": {},
   "source": [
    "# Using StandardScaler"
   ]
  },
  {
   "cell_type": "code",
   "execution_count": 15,
   "id": "13d8fc6e",
   "metadata": {},
   "outputs": [],
   "source": [
    "from sklearn.preprocessing import StandardScaler"
   ]
  },
  {
   "cell_type": "code",
   "execution_count": 16,
   "id": "6afae331",
   "metadata": {},
   "outputs": [],
   "source": [
    "# reload the dataset\n",
    "data_set = np.loadtxt(data_set_path, delimiter=',', skiprows=1, usecols=[1,2])"
   ]
  },
  {
   "cell_type": "code",
   "execution_count": 18,
   "id": "575d8ffa",
   "metadata": {},
   "outputs": [],
   "source": [
    "data_set_scaled = StandardScaler().fit_transform(data_set)"
   ]
  },
  {
   "cell_type": "code",
   "execution_count": 19,
   "id": "ee8ca55f",
   "metadata": {},
   "outputs": [
    {
     "data": {
      "text/plain": [
       "array([-0.9887287 , -1.13338762])"
      ]
     },
     "execution_count": 19,
     "metadata": {},
     "output_type": "execute_result"
    }
   ],
   "source": [
    "np.min(data_set_scaled, axis = 0)"
   ]
  },
  {
   "cell_type": "code",
   "execution_count": 20,
   "id": "0b8a5d9d",
   "metadata": {},
   "outputs": [
    {
     "data": {
      "text/plain": [
       "array([4.36397304, 3.74011686])"
      ]
     },
     "execution_count": 20,
     "metadata": {},
     "output_type": "execute_result"
    }
   ],
   "source": [
    "np.max(data_set_scaled, axis = 0)"
   ]
  }
 ],
 "metadata": {
  "kernelspec": {
   "display_name": "Python 3 (ipykernel)",
   "language": "python",
   "name": "python3"
  },
  "language_info": {
   "codemirror_mode": {
    "name": "ipython",
    "version": 3
   },
   "file_extension": ".py",
   "mimetype": "text/x-python",
   "name": "python",
   "nbconvert_exporter": "python",
   "pygments_lexer": "ipython3",
   "version": "3.11.3"
  }
 },
 "nbformat": 4,
 "nbformat_minor": 5
}
