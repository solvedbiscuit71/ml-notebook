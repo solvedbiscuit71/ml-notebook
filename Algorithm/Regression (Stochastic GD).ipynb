{
 "cells": [
  {
   "cell_type": "code",
   "execution_count": 1,
   "id": "b7a8ab00",
   "metadata": {},
   "outputs": [],
   "source": [
    "import os, re\n",
    "import numpy as np"
   ]
  },
  {
   "cell_type": "code",
   "execution_count": 2,
   "id": "724bea05",
   "metadata": {},
   "outputs": [],
   "source": [
    "data_set_path = re.sub('Algorithm', 'Dataset'+os.sep+'insurance.csv', os.getcwd())"
   ]
  },
  {
   "cell_type": "code",
   "execution_count": 3,
   "id": "58ec4ed5",
   "metadata": {},
   "outputs": [],
   "source": [
    "data_set = np.loadtxt(data_set_path, delimiter=',', skiprows=1, usecols=[1,2])"
   ]
  },
  {
   "cell_type": "code",
   "execution_count": 4,
   "id": "1dfbeae7",
   "metadata": {},
   "outputs": [
    {
     "data": {
      "text/plain": [
       "(63, 2)"
      ]
     },
     "execution_count": 4,
     "metadata": {},
     "output_type": "execute_result"
    }
   ],
   "source": [
    "data_set.shape"
   ]
  },
  {
   "cell_type": "code",
   "execution_count": 7,
   "id": "222e6b15",
   "metadata": {},
   "outputs": [],
   "source": [
    "from sklearn.preprocessing import StandardScaler"
   ]
  },
  {
   "cell_type": "code",
   "execution_count": 8,
   "id": "5b451ac6",
   "metadata": {},
   "outputs": [],
   "source": [
    "data_set = StandardScaler().fit_transform(data_set)"
   ]
  },
  {
   "cell_type": "code",
   "execution_count": 5,
   "id": "976fdefd",
   "metadata": {},
   "outputs": [],
   "source": [
    "import matplotlib.pyplot as plt"
   ]
  },
  {
   "cell_type": "code",
   "execution_count": 9,
   "id": "3273f196",
   "metadata": {},
   "outputs": [
    {
     "data": {
      "image/png": "[encoded data removed]",
      "text/plain": [
       "<Figure size 640x480 with 1 Axes>"
      ]
     },
     "metadata": {},
     "output_type": "display_data"
    }
   ],
   "source": [
    "def plot():\n",
    "    plt.scatter(data_set[:,0], data_set[:,1])\n",
    "    \n",
    "plot()"
   ]
  },
  {
   "cell_type": "code",
   "execution_count": 13,
   "id": "6dc55b0c",
   "metadata": {},
   "outputs": [],
   "source": [
    "np.random.shuffle(data_set)"
   ]
  },
  {
   "cell_type": "code",
   "execution_count": 14,
   "id": "c5f9ca72",
   "metadata": {},
   "outputs": [],
   "source": [
    "slope = 0.0\n",
    "intercept = 0.0"
   ]
  },
  {
   "cell_type": "code",
   "execution_count": 15,
   "id": "64944cab",
   "metadata": {},
   "outputs": [],
   "source": [
    "def predict(x):\n",
    "    return slope * x + intercept"
   ]
  },
  {
   "cell_type": "code",
   "execution_count": 16,
   "id": "b9c26394",
   "metadata": {},
   "outputs": [],
   "source": [
    "def loss():\n",
    "    x = data_set[:,0]\n",
    "    y = data_set[:,1]\n",
    "    n = x.size\n",
    "    \n",
    "    loss = 0\n",
    "    for xi,yi in zip(x,y):\n",
    "        loss += (predict(xi) - yi) ** 2\n",
    "    return loss / n"
   ]
  },
  {
   "cell_type": "code",
   "execution_count": 17,
   "id": "a61c982b",
   "metadata": {},
   "outputs": [
    {
     "data": {
      "text/plain": [
       "1.0000000000000004"
      ]
     },
     "execution_count": 17,
     "metadata": {},
     "output_type": "execute_result"
    }
   ],
   "source": [
    "loss()"
   ]
  },
  {
   "cell_type": "code",
   "execution_count": 20,
   "id": "5024ad2f",
   "metadata": {},
   "outputs": [],
   "source": [
    "def step_slope(i: int):\n",
    "    xi = data_set[i,0]\n",
    "    yi = data_set[i,1]\n",
    "    \n",
    "    return 2 * (predict(xi) - yi) * xi"
   ]
  },
  {
   "cell_type": "code",
   "execution_count": 21,
   "id": "e4cc5bbc",
   "metadata": {},
   "outputs": [],
   "source": [
    "def step_intercept(i: int):\n",
    "    xi = data_set[i,0]\n",
    "    yi = data_set[i,1]\n",
    "    \n",
    "    return 2 * (predict(xi) - yi)"
   ]
  },
  {
   "cell_type": "code",
   "execution_count": 22,
   "id": "5acfac01",
   "metadata": {},
   "outputs": [],
   "source": [
    "slope = slope - 0.01 * step_slope(0)\n",
    "intercept = intercept - 0.01 * step_intercept(0)"
   ]
  },
  {
   "cell_type": "code",
   "execution_count": 23,
   "id": "7ffab133",
   "metadata": {},
   "outputs": [
    {
     "data": {
      "text/plain": [
       "0.988585868936463"
      ]
     },
     "execution_count": 23,
     "metadata": {},
     "output_type": "execute_result"
    }
   ],
   "source": [
    "loss()"
   ]
  },
  {
   "cell_type": "code",
   "execution_count": 24,
   "id": "81d6eaf1",
   "metadata": {},
   "outputs": [],
   "source": [
    "slope = slope - 0.01 * step_slope(1)\n",
    "intercept = intercept - 0.01 * step_intercept(1)"
   ]
  },
  {
   "cell_type": "code",
   "execution_count": 26,
   "id": "1e6f7854",
   "metadata": {},
   "outputs": [
    {
     "data": {
      "text/plain": [
       "0.9967126280245675"
      ]
     },
     "execution_count": 26,
     "metadata": {},
     "output_type": "execute_result"
    }
   ],
   "source": [
    "loss() # We try to optimise only with respect to a single data point"
   ]
  },
  {
   "cell_type": "code",
   "execution_count": 31,
   "id": "a4aa4a71",
   "metadata": {},
   "outputs": [],
   "source": [
    "for i in range(2,data_set.shape[0]):\n",
    "    slope = slope - 0.01 * step_slope(i)\n",
    "    intercept = intercept - 0.01 * step_intercept(i)"
   ]
  },
  {
   "cell_type": "code",
   "execution_count": 32,
   "id": "51e521e2",
   "metadata": {},
   "outputs": [
    {
     "data": {
      "text/plain": [
       "0.21604248876770227"
      ]
     },
     "execution_count": 32,
     "metadata": {},
     "output_type": "execute_result"
    }
   ],
   "source": [
    "loss()"
   ]
  },
  {
   "cell_type": "code",
   "execution_count": 33,
   "id": "9498e4a1",
   "metadata": {},
   "outputs": [
    {
     "data": {
      "image/png": "[encoded data removed]",
      "text/plain": [
       "<Figure size 640x480 with 1 Axes>"
      ]
     },
     "metadata": {},
     "output_type": "display_data"
    }
   ],
   "source": [
    "def plot():\n",
    "    plt.scatter(data_set[:,0], data_set[:,1])\n",
    "    plt.plot(range(-1,6), [predict(x) for x in range(-1,6)], 'r:')\n",
    "    \n",
    "plot()"
   ]
  },
  {
   "cell_type": "code",
   "execution_count": 34,
   "id": "9b13ba96",
   "metadata": {},
   "outputs": [],
   "source": [
    "# But, from Batch Gradient Descent we know we can reduce the loss function to 0.166\n",
    "# so we will repeat this iteration one more time\n",
    "np.random.shuffle(data_set)\n",
    "\n",
    "for i in range(data_set.shape[0]):\n",
    "    slope = slope - 0.01 * step_slope(i)\n",
    "    intercept = intercept - 0.01 * step_intercept(i)"
   ]
  },
  {
   "cell_type": "code",
   "execution_count": 35,
   "id": "eec10d2b",
   "metadata": {},
   "outputs": [
    {
     "data": {
      "text/plain": [
       "0.17175477428875305"
      ]
     },
     "execution_count": 35,
     "metadata": {},
     "output_type": "execute_result"
    }
   ],
   "source": [
    "loss()"
   ]
  },
  {
   "cell_type": "code",
   "execution_count": 36,
   "id": "24245208",
   "metadata": {},
   "outputs": [
    {
     "data": {
      "image/png": "[encoded data removed]",
      "text/plain": [
       "<Figure size 640x480 with 1 Axes>"
      ]
     },
     "metadata": {},
     "output_type": "display_data"
    }
   ],
   "source": [
    "plot()"
   ]
  },
  {
   "cell_type": "code",
   "execution_count": 37,
   "id": "a3e80e60",
   "metadata": {},
   "outputs": [],
   "source": [
    "# Now, let's iterate one more time...\n",
    "np.random.shuffle(data_set)\n",
    "\n",
    "for i in range(data_set.shape[0]):\n",
    "    slope = slope - 0.01 * step_slope(i)\n",
    "    intercept = intercept - 0.01 * step_intercept(i)"
   ]
  },
  {
   "cell_type": "code",
   "execution_count": 38,
   "id": "53c46e0a",
   "metadata": {},
   "outputs": [
    {
     "data": {
      "text/plain": [
       "0.16674177868172094"
      ]
     },
     "execution_count": 38,
     "metadata": {},
     "output_type": "execute_result"
    }
   ],
   "source": [
    "loss()"
   ]
  },
  {
   "cell_type": "code",
   "execution_count": 39,
   "id": "c9fc64dc",
   "metadata": {},
   "outputs": [
    {
     "data": {
      "image/png": "[encoded data removed]",
      "text/plain": [
       "<Figure size 640x480 with 1 Axes>"
      ]
     },
     "metadata": {},
     "output_type": "display_data"
    }
   ],
   "source": [
    "plot()"
   ]
  },
  {
   "cell_type": "markdown",
   "id": "b41143d3",
   "metadata": {},
   "source": [
    "Thus, with just 3 iteration over the dataset we have find the optimal value for slope and intercept whereas in *Batch Gradient Descent* it took 2 iteration over the dataset for a single step and we perform a few hundred steps to each the optimal value."
   ]
  }
 ],
 "metadata": {
  "kernelspec": {
   "display_name": "Python 3 (ipykernel)",
   "language": "python",
   "name": "python3"
  },
  "language_info": {
   "codemirror_mode": {
    "name": "ipython",
    "version": 3
   },
   "file_extension": ".py",
   "mimetype": "text/x-python",
   "name": "python",
   "nbconvert_exporter": "python",
   "pygments_lexer": "ipython3",
   "version": "3.11.3"
  }
 },
 "nbformat": 4,
 "nbformat_minor": 5
}
