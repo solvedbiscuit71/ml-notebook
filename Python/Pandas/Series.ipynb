{
 "cells": [
  {
   "cell_type": "code",
   "execution_count": 1,
   "id": "1dd27a03",
   "metadata": {},
   "outputs": [],
   "source": [
    "import numpy as np\n",
    "import pandas as pd"
   ]
  },
  {
   "cell_type": "markdown",
   "id": "6a982b4d",
   "metadata": {},
   "source": [
    "# Series\n",
    "\n",
    "- Series is a one dimensional labeled array capable of holding any data type.\n",
    "- The axis labels are collectively called as **index** and pandas support non-unique indices.\n",
    "- Series are ndarray like and its a valid argument for most of numpy functions"
   ]
  },
  {
   "cell_type": "code",
   "execution_count": 54,
   "id": "deaa083e",
   "metadata": {},
   "outputs": [],
   "source": [
    "s1 = pd.Series(np.array([2,6,2,np.nan,1]), index=list('cbdae'), name='Data Points')"
   ]
  },
  {
   "cell_type": "code",
   "execution_count": 38,
   "id": "81f8d190",
   "metadata": {},
   "outputs": [
    {
     "data": {
      "text/plain": [
       "'Data Points'"
      ]
     },
     "execution_count": 38,
     "metadata": {},
     "output_type": "execute_result"
    }
   ],
   "source": [
    "s1.name"
   ]
  },
  {
   "cell_type": "code",
   "execution_count": 39,
   "id": "9ecdeab0",
   "metadata": {},
   "outputs": [
    {
     "data": {
      "text/plain": [
       "dtype('int64')"
      ]
     },
     "execution_count": 39,
     "metadata": {},
     "output_type": "execute_result"
    }
   ],
   "source": [
    "s1.dtype"
   ]
  },
  {
   "cell_type": "code",
   "execution_count": 73,
   "id": "3ecf6cbf",
   "metadata": {},
   "outputs": [
    {
     "data": {
      "text/plain": [
       "5"
      ]
     },
     "execution_count": 73,
     "metadata": {},
     "output_type": "execute_result"
    }
   ],
   "source": [
    "s1.size"
   ]
  },
  {
   "cell_type": "code",
   "execution_count": 55,
   "id": "3d323704",
   "metadata": {},
   "outputs": [
    {
     "data": {
      "text/plain": [
       "Index(['c', 'b', 'd', 'a', 'e'], dtype='object')"
      ]
     },
     "execution_count": 55,
     "metadata": {},
     "output_type": "execute_result"
    }
   ],
   "source": [
    "s1.index"
   ]
  },
  {
   "cell_type": "code",
   "execution_count": 56,
   "id": "06d1d095",
   "metadata": {},
   "outputs": [
    {
     "data": {
      "text/plain": [
       "array([ 2.,  6.,  2., nan,  1.])"
      ]
     },
     "execution_count": 56,
     "metadata": {},
     "output_type": "execute_result"
    }
   ],
   "source": [
    "s1.values"
   ]
  },
  {
   "cell_type": "code",
   "execution_count": 57,
   "id": "c08b014d",
   "metadata": {},
   "outputs": [
    {
     "data": {
      "text/plain": [
       "c    2.0\n",
       "b    6.0\n",
       "d    2.0\n",
       "a    NaN\n",
       "e    1.0\n",
       "Name: Data Points, dtype: float64"
      ]
     },
     "execution_count": 57,
     "metadata": {},
     "output_type": "execute_result"
    }
   ],
   "source": [
    "s1"
   ]
  },
  {
   "cell_type": "code",
   "execution_count": 60,
   "id": "17b1b5d9",
   "metadata": {},
   "outputs": [
    {
     "data": {
      "text/plain": [
       "True"
      ]
     },
     "execution_count": 60,
     "metadata": {},
     "output_type": "execute_result"
    }
   ],
   "source": [
    "s1.hasnans"
   ]
  },
  {
   "cell_type": "code",
   "execution_count": 61,
   "id": "27b2ca9f",
   "metadata": {},
   "outputs": [
    {
     "data": {
      "text/plain": [
       "False"
      ]
     },
     "execution_count": 61,
     "metadata": {},
     "output_type": "execute_result"
    }
   ],
   "source": [
    "s1.is_unique"
   ]
  },
  {
   "cell_type": "code",
   "execution_count": 58,
   "id": "d28d671b",
   "metadata": {},
   "outputs": [
    {
     "data": {
      "text/plain": [
       "a    NaN\n",
       "b    6.0\n",
       "Name: Data Points, dtype: float64"
      ]
     },
     "execution_count": 58,
     "metadata": {},
     "output_type": "execute_result"
    }
   ],
   "source": [
    "s1.loc[['a','b']]"
   ]
  },
  {
   "cell_type": "code",
   "execution_count": 59,
   "id": "c176777b",
   "metadata": {},
   "outputs": [
    {
     "data": {
      "text/plain": [
       "c    2.0\n",
       "b    6.0\n",
       "Name: Data Points, dtype: float64"
      ]
     },
     "execution_count": 59,
     "metadata": {},
     "output_type": "execute_result"
    }
   ],
   "source": [
    "s1.iloc[[0,1]]"
   ]
  },
  {
   "cell_type": "code",
   "execution_count": 72,
   "id": "4d0e19f6",
   "metadata": {},
   "outputs": [
    {
     "data": {
      "text/plain": [
       "1"
      ]
     },
     "execution_count": 72,
     "metadata": {},
     "output_type": "execute_result"
    }
   ],
   "source": [
    "s1.loc[s1.isna()]"
   ]
  },
  {
   "cell_type": "code",
   "execution_count": 77,
   "id": "e7449151",
   "metadata": {},
   "outputs": [
    {
     "data": {
      "text/plain": [
       "array([ 2.,  6., nan,  1.])"
      ]
     },
     "execution_count": 77,
     "metadata": {},
     "output_type": "execute_result"
    }
   ],
   "source": [
    "s1.unique()"
   ]
  },
  {
   "cell_type": "code",
   "execution_count": 74,
   "id": "f55c3942",
   "metadata": {},
   "outputs": [
    {
     "data": {
      "text/plain": [
       "count    4.000000\n",
       "mean     2.750000\n",
       "std      2.217356\n",
       "min      1.000000\n",
       "25%      1.750000\n",
       "50%      2.000000\n",
       "75%      3.000000\n",
       "max      6.000000\n",
       "Name: Data Points, dtype: float64"
      ]
     },
     "execution_count": 74,
     "metadata": {},
     "output_type": "execute_result"
    }
   ],
   "source": [
    "s1.describe()"
   ]
  },
  {
   "cell_type": "code",
   "execution_count": 78,
   "id": "2e4e67fb",
   "metadata": {},
   "outputs": [
    {
     "data": {
      "text/plain": [
       "<Axes: >"
      ]
     },
     "execution_count": 78,
     "metadata": {},
     "output_type": "execute_result"
    },
    {
     "data": {
      "image/png": "[encoded data removed]",
      "text/plain": [
       "<Figure size 640x480 with 1 Axes>"
      ]
     },
     "metadata": {},
     "output_type": "display_data"
    }
   ],
   "source": [
    "s1.hist()"
   ]
  },
  {
   "cell_type": "markdown",
   "id": "5db977b0",
   "metadata": {},
   "source": [
    "# Extension Array\n",
    "\n",
    "- Under the hood pandas uses `ExtensionArray` to handle Series and columns in DataFrames and `ExtensionArray` is a wrapper around the `numpy.ndarray`"
   ]
  },
  {
   "cell_type": "code",
   "execution_count": 81,
   "id": "f0eb43e1",
   "metadata": {},
   "outputs": [
    {
     "name": "stdout",
     "output_type": "stream",
     "text": [
      "<class 'pandas.core.series.Series'>\n",
      "Index: 5 entries, c to e\n",
      "Series name: Data Points\n",
      "Non-Null Count  Dtype  \n",
      "--------------  -----  \n",
      "4 non-null      float64\n",
      "dtypes: float64(1)\n",
      "memory usage: 252.0+ bytes\n"
     ]
    }
   ],
   "source": [
    "s1.info()"
   ]
  },
  {
   "cell_type": "code",
   "execution_count": 79,
   "id": "eb172979",
   "metadata": {
    "scrolled": true
   },
   "outputs": [
    {
     "data": {
      "text/plain": [
       "<PandasArray>\n",
       "[2.0, 6.0, 2.0, nan, 1.0]\n",
       "Length: 5, dtype: float64"
      ]
     },
     "execution_count": 79,
     "metadata": {},
     "output_type": "execute_result"
    }
   ],
   "source": [
    "s1.array"
   ]
  },
  {
   "cell_type": "code",
   "execution_count": 80,
   "id": "ab2a6281",
   "metadata": {},
   "outputs": [
    {
     "data": {
      "text/plain": [
       "array([ 2.,  6.,  2., nan,  1.])"
      ]
     },
     "execution_count": 80,
     "metadata": {},
     "output_type": "execute_result"
    }
   ],
   "source": [
    "s1.to_numpy()"
   ]
  },
  {
   "cell_type": "markdown",
   "id": "5359300c",
   "metadata": {},
   "source": [
    "# Dictionary like operation!\n",
    "\n",
    "- Index labels in a series can acts like a keys in dictionary"
   ]
  },
  {
   "cell_type": "code",
   "execution_count": 15,
   "id": "b43980b9",
   "metadata": {},
   "outputs": [
    {
     "data": {
      "text/plain": [
       "1.0"
      ]
     },
     "execution_count": 15,
     "metadata": {},
     "output_type": "execute_result"
    }
   ],
   "source": [
    "s1[0]"
   ]
  },
  {
   "cell_type": "code",
   "execution_count": 16,
   "id": "e719e4fa",
   "metadata": {},
   "outputs": [
    {
     "data": {
      "text/plain": [
       "True"
      ]
     },
     "execution_count": 16,
     "metadata": {},
     "output_type": "execute_result"
    }
   ],
   "source": [
    "10 in s1"
   ]
  },
  {
   "cell_type": "code",
   "execution_count": 17,
   "id": "6541e955",
   "metadata": {},
   "outputs": [
    {
     "data": {
      "text/plain": [
       "nan"
      ]
     },
     "execution_count": 17,
     "metadata": {},
     "output_type": "execute_result"
    }
   ],
   "source": [
    "s1.get(47, np.nan)"
   ]
  },
  {
   "cell_type": "markdown",
   "id": "bb704841",
   "metadata": {},
   "source": [
    "# What's different?\n",
    "\n",
    "- The key difference between numpy's `ndarray` and pandas's `Series` is that, In `Series` data is aligned based on the labels instead of position"
   ]
  },
  {
   "cell_type": "code",
   "execution_count": 85,
   "id": "3d12e29f",
   "metadata": {},
   "outputs": [],
   "source": [
    "s1 = s1.dropna()"
   ]
  },
  {
   "cell_type": "code",
   "execution_count": 87,
   "id": "9b4d4297",
   "metadata": {},
   "outputs": [],
   "source": [
    "x1 = s1.to_numpy()"
   ]
  },
  {
   "cell_type": "code",
   "execution_count": 88,
   "id": "de2941d5",
   "metadata": {},
   "outputs": [
    {
     "data": {
      "text/plain": [
       "array([2., 6., 2., 1.])"
      ]
     },
     "execution_count": 88,
     "metadata": {},
     "output_type": "execute_result"
    }
   ],
   "source": [
    "x1"
   ]
  },
  {
   "cell_type": "code",
   "execution_count": 90,
   "id": "7ae60090",
   "metadata": {},
   "outputs": [
    {
     "data": {
      "text/plain": [
       "array([3., 8., 8., 3.])"
      ]
     },
     "execution_count": 90,
     "metadata": {},
     "output_type": "execute_result"
    }
   ],
   "source": [
    "x1 + x1[::-1]"
   ]
  },
  {
   "cell_type": "code",
   "execution_count": 86,
   "id": "9ebe8e55",
   "metadata": {},
   "outputs": [
    {
     "data": {
      "text/plain": [
       "c    2.0\n",
       "b    6.0\n",
       "d    2.0\n",
       "e    1.0\n",
       "Name: Data Points, dtype: float64"
      ]
     },
     "execution_count": 86,
     "metadata": {},
     "output_type": "execute_result"
    }
   ],
   "source": [
    "s1"
   ]
  }
 ],
 "metadata": {
  "kernelspec": {
   "display_name": "Python 3 (ipykernel)",
   "language": "python",
   "name": "python3"
  },
  "language_info": {
   "codemirror_mode": {
    "name": "ipython",
    "version": 3
   },
   "file_extension": ".py",
   "mimetype": "text/x-python",
   "name": "python",
   "nbconvert_exporter": "python",
   "pygments_lexer": "ipython3",
   "version": "3.11.3"
  }
 },
 "nbformat": 4,
 "nbformat_minor": 5
}
