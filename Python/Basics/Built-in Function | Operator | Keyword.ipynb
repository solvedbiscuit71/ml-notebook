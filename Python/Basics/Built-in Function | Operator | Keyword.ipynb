{
 "cells": [
  {
   "cell_type": "markdown",
   "id": "fde36136",
   "metadata": {},
   "source": [
    "Python is a general purpose interpreted high level dynamically typed programming language used in a various fields."
   ]
  },
  {
   "cell_type": "code",
   "execution_count": 1,
   "id": "d26a1f70",
   "metadata": {},
   "outputs": [],
   "source": [
    "x_int = 0\n",
    "x_float = 3.14\n",
    "x_str = \"hello, world\"\n",
    "x_none = None\n",
    "x_bool = True"
   ]
  },
  {
   "cell_type": "markdown",
   "id": "a02d0aa8",
   "metadata": {},
   "source": [
    "### Built-in function in python"
   ]
  },
  {
   "cell_type": "code",
   "execution_count": 2,
   "id": "10af84e0",
   "metadata": {},
   "outputs": [
    {
     "data": {
      "text/plain": [
       "int"
      ]
     },
     "execution_count": 2,
     "metadata": {},
     "output_type": "execute_result"
    }
   ],
   "source": [
    "type(x_int)"
   ]
  },
  {
   "cell_type": "code",
   "execution_count": 3,
   "id": "6eda7a0d",
   "metadata": {},
   "outputs": [
    {
     "data": {
      "text/plain": [
       "True"
      ]
     },
     "execution_count": 3,
     "metadata": {},
     "output_type": "execute_result"
    }
   ],
   "source": [
    "isinstance(x_int, int)"
   ]
  },
  {
   "cell_type": "code",
   "execution_count": 4,
   "id": "fbd7a753",
   "metadata": {},
   "outputs": [
    {
     "data": {
      "text/plain": [
       "4380662360"
      ]
     },
     "execution_count": 4,
     "metadata": {},
     "output_type": "execute_result"
    }
   ],
   "source": [
    "id(x_int)"
   ]
  },
  {
   "cell_type": "code",
   "execution_count": 5,
   "id": "995f4995",
   "metadata": {},
   "outputs": [
    {
     "data": {
      "text/plain": [
       "12"
      ]
     },
     "execution_count": 5,
     "metadata": {},
     "output_type": "execute_result"
    }
   ],
   "source": [
    "len(x_str)"
   ]
  },
  {
   "cell_type": "code",
   "execution_count": 6,
   "id": "b7819a46",
   "metadata": {},
   "outputs": [
    {
     "data": {
      "text/plain": [
       "65"
      ]
     },
     "execution_count": 6,
     "metadata": {},
     "output_type": "execute_result"
    }
   ],
   "source": [
    "ord('A')"
   ]
  },
  {
   "cell_type": "code",
   "execution_count": 7,
   "id": "dd30da49",
   "metadata": {},
   "outputs": [
    {
     "data": {
      "text/plain": [
       "'A'"
      ]
     },
     "execution_count": 7,
     "metadata": {},
     "output_type": "execute_result"
    }
   ],
   "source": [
    "chr(65)"
   ]
  },
  {
   "cell_type": "code",
   "execution_count": 8,
   "id": "2f00f17e",
   "metadata": {},
   "outputs": [
    {
     "data": {
      "text/plain": [
       "'0x50'"
      ]
     },
     "execution_count": 8,
     "metadata": {},
     "output_type": "execute_result"
    }
   ],
   "source": [
    "hex(80)"
   ]
  },
  {
   "cell_type": "code",
   "execution_count": 9,
   "id": "de5ea826",
   "metadata": {},
   "outputs": [
    {
     "data": {
      "text/plain": [
       "'0o120'"
      ]
     },
     "execution_count": 9,
     "metadata": {},
     "output_type": "execute_result"
    }
   ],
   "source": [
    "oct(80)"
   ]
  },
  {
   "cell_type": "code",
   "execution_count": 10,
   "id": "987cf01a",
   "metadata": {},
   "outputs": [
    {
     "data": {
      "text/plain": [
       "'0b1010000'"
      ]
     },
     "execution_count": 10,
     "metadata": {},
     "output_type": "execute_result"
    }
   ],
   "source": [
    "bin(80)"
   ]
  },
  {
   "cell_type": "code",
   "execution_count": 11,
   "id": "cbec3a68",
   "metadata": {},
   "outputs": [
    {
     "data": {
      "text/plain": [
       "(True, True, '')"
      ]
     },
     "execution_count": 11,
     "metadata": {},
     "output_type": "execute_result"
    }
   ],
   "source": [
    "x_bool = (1 == 1, 2 < 3,'')\n",
    "x_bool"
   ]
  },
  {
   "cell_type": "code",
   "execution_count": 12,
   "id": "50639947",
   "metadata": {},
   "outputs": [
    {
     "data": {
      "text/plain": [
       "False"
      ]
     },
     "execution_count": 12,
     "metadata": {},
     "output_type": "execute_result"
    }
   ],
   "source": [
    "bool('') # empty string is consider falsy"
   ]
  },
  {
   "cell_type": "code",
   "execution_count": 13,
   "id": "82ee45f5",
   "metadata": {},
   "outputs": [
    {
     "data": {
      "text/plain": [
       "False"
      ]
     },
     "execution_count": 13,
     "metadata": {},
     "output_type": "execute_result"
    }
   ],
   "source": [
    "all(x_bool)"
   ]
  },
  {
   "cell_type": "code",
   "execution_count": 14,
   "id": "1a60ff32",
   "metadata": {},
   "outputs": [
    {
     "data": {
      "text/plain": [
       "True"
      ]
     },
     "execution_count": 14,
     "metadata": {},
     "output_type": "execute_result"
    }
   ],
   "source": [
    "any(x_bool)"
   ]
  },
  {
   "cell_type": "code",
   "execution_count": 15,
   "id": "874c0adf",
   "metadata": {},
   "outputs": [],
   "source": [
    "x_list = [1,5,-2,9,-10,3]"
   ]
  },
  {
   "cell_type": "code",
   "execution_count": 16,
   "id": "31cd812b",
   "metadata": {},
   "outputs": [
    {
     "data": {
      "text/plain": [
       "'[1, 5, -2, 9, -10, 3]'"
      ]
     },
     "execution_count": 16,
     "metadata": {},
     "output_type": "execute_result"
    }
   ],
   "source": [
    "str(x_list) # calls __str__"
   ]
  },
  {
   "cell_type": "code",
   "execution_count": 17,
   "id": "55838f2e",
   "metadata": {},
   "outputs": [
    {
     "data": {
      "text/plain": [
       "'[1, 5, -2, 9, -10, 3]'"
      ]
     },
     "execution_count": 17,
     "metadata": {},
     "output_type": "execute_result"
    }
   ],
   "source": [
    "repr(x_list) # calls __repr__"
   ]
  },
  {
   "cell_type": "code",
   "execution_count": 18,
   "id": "66eed997",
   "metadata": {},
   "outputs": [
    {
     "data": {
      "text/plain": [
       "6"
      ]
     },
     "execution_count": 18,
     "metadata": {},
     "output_type": "execute_result"
    }
   ],
   "source": [
    "sum(x_list)"
   ]
  },
  {
   "cell_type": "code",
   "execution_count": 19,
   "id": "217a0e93",
   "metadata": {},
   "outputs": [
    {
     "data": {
      "text/plain": [
       "-10"
      ]
     },
     "execution_count": 19,
     "metadata": {},
     "output_type": "execute_result"
    }
   ],
   "source": [
    "min(x_list)"
   ]
  },
  {
   "cell_type": "code",
   "execution_count": 20,
   "id": "861c91aa",
   "metadata": {},
   "outputs": [
    {
     "data": {
      "text/plain": [
       "9"
      ]
     },
     "execution_count": 20,
     "metadata": {},
     "output_type": "execute_result"
    }
   ],
   "source": [
    "max(x_list)"
   ]
  },
  {
   "cell_type": "code",
   "execution_count": 21,
   "id": "3413b679",
   "metadata": {},
   "outputs": [
    {
     "data": {
      "text/plain": [
       "[3, -10, 9, -2, 5, 1]"
      ]
     },
     "execution_count": 21,
     "metadata": {},
     "output_type": "execute_result"
    }
   ],
   "source": [
    "list(reversed(x_list))"
   ]
  },
  {
   "cell_type": "code",
   "execution_count": 22,
   "id": "4f4b93e1",
   "metadata": {},
   "outputs": [
    {
     "data": {
      "text/plain": [
       "[-10, -2, 1, 3, 5, 9]"
      ]
     },
     "execution_count": 22,
     "metadata": {},
     "output_type": "execute_result"
    }
   ],
   "source": [
    "sorted(x_list)"
   ]
  },
  {
   "cell_type": "code",
   "execution_count": 23,
   "id": "e1231620",
   "metadata": {},
   "outputs": [
    {
     "data": {
      "text/plain": [
       "[1, -2, 3, 5, 9, -10]"
      ]
     },
     "execution_count": 23,
     "metadata": {},
     "output_type": "execute_result"
    }
   ],
   "source": [
    "sorted(x_list, key=lambda xi: abs(xi))"
   ]
  },
  {
   "cell_type": "code",
   "execution_count": 24,
   "id": "811bf05a",
   "metadata": {},
   "outputs": [
    {
     "data": {
      "text/plain": [
       "10"
      ]
     },
     "execution_count": 24,
     "metadata": {},
     "output_type": "execute_result"
    }
   ],
   "source": [
    "abs(-10)"
   ]
  },
  {
   "cell_type": "code",
   "execution_count": 25,
   "id": "1bc37293",
   "metadata": {},
   "outputs": [
    {
     "data": {
      "text/plain": [
       "3"
      ]
     },
     "execution_count": 25,
     "metadata": {},
     "output_type": "execute_result"
    }
   ],
   "source": [
    "round(3.14)"
   ]
  },
  {
   "cell_type": "code",
   "execution_count": 27,
   "id": "59103564",
   "metadata": {},
   "outputs": [
    {
     "data": {
      "text/plain": [
       "False"
      ]
     },
     "execution_count": 27,
     "metadata": {},
     "output_type": "execute_result"
    }
   ],
   "source": [
    "3.14 - round(3.14) == 0 # Not reliable"
   ]
  },
  {
   "cell_type": "code",
   "execution_count": 28,
   "id": "cf3e2492",
   "metadata": {},
   "outputs": [
    {
     "data": {
      "text/plain": [
       "False"
      ]
     },
     "execution_count": 28,
     "metadata": {},
     "output_type": "execute_result"
    }
   ],
   "source": [
    "(3.14).is_integer() # reliable"
   ]
  },
  {
   "cell_type": "code",
   "execution_count": 31,
   "id": "6a1b1753",
   "metadata": {},
   "outputs": [
    {
     "data": {
      "text/plain": [
       "[1, 5, 2, 9, 10, 3]"
      ]
     },
     "execution_count": 31,
     "metadata": {},
     "output_type": "execute_result"
    }
   ],
   "source": [
    "[abs(xi) for xi in x_list] # map() function using list comprehension"
   ]
  },
  {
   "cell_type": "code",
   "execution_count": 32,
   "id": "e851f65d",
   "metadata": {},
   "outputs": [
    {
     "data": {
      "text/plain": [
       "(2, 1)"
      ]
     },
     "execution_count": 32,
     "metadata": {},
     "output_type": "execute_result"
    }
   ],
   "source": [
    "divmod(7,3)"
   ]
  },
  {
   "cell_type": "code",
   "execution_count": 33,
   "id": "d392e733",
   "metadata": {},
   "outputs": [
    {
     "data": {
      "text/plain": [
       "32"
      ]
     },
     "execution_count": 33,
     "metadata": {},
     "output_type": "execute_result"
    }
   ],
   "source": [
    "pow(2,5)"
   ]
  },
  {
   "cell_type": "code",
   "execution_count": 34,
   "id": "076d7d38",
   "metadata": {},
   "outputs": [
    {
     "data": {
      "text/plain": [
       "32"
      ]
     },
     "execution_count": 34,
     "metadata": {},
     "output_type": "execute_result"
    }
   ],
   "source": [
    "2 ** 5 # Or, use the power operator"
   ]
  },
  {
   "cell_type": "code",
   "execution_count": 35,
   "id": "d49c1f6d",
   "metadata": {},
   "outputs": [
    {
     "data": {
      "text/plain": [
       "range"
      ]
     },
     "execution_count": 35,
     "metadata": {},
     "output_type": "execute_result"
    }
   ],
   "source": [
    "x_range = range(0,5)\n",
    "type(x_range)"
   ]
  },
  {
   "cell_type": "code",
   "execution_count": 36,
   "id": "6c1d3f73",
   "metadata": {},
   "outputs": [],
   "source": [
    "x_iter = iter(x_range)"
   ]
  },
  {
   "cell_type": "code",
   "execution_count": 37,
   "id": "43e680b9",
   "metadata": {},
   "outputs": [
    {
     "name": "stdout",
     "output_type": "stream",
     "text": [
      "0\n",
      "1\n",
      "2\n",
      "3\n",
      "4\n"
     ]
    }
   ],
   "source": [
    "while x_iter:\n",
    "    try:\n",
    "        print(next(x_iter))\n",
    "    except StopIteration:\n",
    "        break"
   ]
  },
  {
   "cell_type": "code",
   "execution_count": 38,
   "id": "0a35a68e",
   "metadata": {},
   "outputs": [
    {
     "data": {
      "text/plain": [
       "[(0, 'a'), (1, 'b'), (2, 'c')]"
      ]
     },
     "execution_count": 38,
     "metadata": {},
     "output_type": "execute_result"
    }
   ],
   "source": [
    "x_list = ['a', 'b', 'c']\n",
    "list(enumerate(x_list))"
   ]
  },
  {
   "cell_type": "code",
   "execution_count": 39,
   "id": "66142805",
   "metadata": {},
   "outputs": [
    {
     "name": "stdout",
     "output_type": "stream",
     "text": [
      "0 a\n",
      "1 b\n",
      "2 c\n"
     ]
    }
   ],
   "source": [
    "for i, v in enumerate(x_list):\n",
    "    print(i, v)"
   ]
  },
  {
   "cell_type": "code",
   "execution_count": 40,
   "id": "ef053751",
   "metadata": {},
   "outputs": [
    {
     "data": {
      "text/plain": [
       "[('Praveen', 'Perumal'), ('Sam', 'Anderson')]"
      ]
     },
     "execution_count": 40,
     "metadata": {},
     "output_type": "execute_result"
    }
   ],
   "source": [
    "first_name = ['Praveen', 'Sam', 'Prabhu']\n",
    "last_name = ['Perumal', 'Anderson']\n",
    "list(zip(first_name, last_name))"
   ]
  },
  {
   "cell_type": "code",
   "execution_count": 41,
   "id": "f6425b76",
   "metadata": {},
   "outputs": [
    {
     "name": "stdout",
     "output_type": "stream",
     "text": [
      "Praveen Perumal\n",
      "Sam Anderson\n"
     ]
    }
   ],
   "source": [
    "for fname, lname in zip(first_name, last_name):\n",
    "    print(fname, lname)"
   ]
  },
  {
   "cell_type": "markdown",
   "id": "55ba92ad",
   "metadata": {},
   "source": [
    "## Operator in python"
   ]
  },
  {
   "cell_type": "code",
   "execution_count": 42,
   "id": "9f6147ea",
   "metadata": {},
   "outputs": [],
   "source": [
    "x_int = 3"
   ]
  },
  {
   "cell_type": "code",
   "execution_count": 43,
   "id": "35fc3712",
   "metadata": {},
   "outputs": [
    {
     "data": {
      "text/plain": [
       "True"
      ]
     },
     "execution_count": 43,
     "metadata": {},
     "output_type": "execute_result"
    }
   ],
   "source": [
    "2 < x_int <= 4 # operator can be chained"
   ]
  },
  {
   "cell_type": "code",
   "execution_count": 44,
   "id": "6e9ac2f5",
   "metadata": {},
   "outputs": [
    {
     "data": {
      "text/plain": [
       "True"
      ]
     },
     "execution_count": 44,
     "metadata": {},
     "output_type": "execute_result"
    }
   ],
   "source": [
    "2 < x_int <= 4 and 2 + 2 == 4 # priority: arithmetic > relational > logical"
   ]
  },
  {
   "cell_type": "code",
   "execution_count": 45,
   "id": "16e855e7",
   "metadata": {},
   "outputs": [],
   "source": [
    "y_int = x_int"
   ]
  },
  {
   "cell_type": "code",
   "execution_count": 46,
   "id": "11ddf470",
   "metadata": {},
   "outputs": [
    {
     "data": {
      "text/plain": [
       "True"
      ]
     },
     "execution_count": 46,
     "metadata": {},
     "output_type": "execute_result"
    }
   ],
   "source": [
    "x_int is y_int # identity operator"
   ]
  },
  {
   "cell_type": "code",
   "execution_count": 47,
   "id": "182b25be",
   "metadata": {},
   "outputs": [
    {
     "data": {
      "text/plain": [
       "False"
      ]
     },
     "execution_count": 47,
     "metadata": {},
     "output_type": "execute_result"
    }
   ],
   "source": [
    "x_int is not y_int"
   ]
  },
  {
   "cell_type": "code",
   "execution_count": 48,
   "id": "62f1ed1c",
   "metadata": {},
   "outputs": [],
   "source": [
    "x_list = [1,2,4,5,8]"
   ]
  },
  {
   "cell_type": "code",
   "execution_count": 49,
   "id": "c8a0a869",
   "metadata": {},
   "outputs": [
    {
     "data": {
      "text/plain": [
       "False"
      ]
     },
     "execution_count": 49,
     "metadata": {},
     "output_type": "execute_result"
    }
   ],
   "source": [
    "x_int in x_list"
   ]
  },
  {
   "cell_type": "code",
   "execution_count": 50,
   "id": "8cb7691e",
   "metadata": {},
   "outputs": [
    {
     "data": {
      "text/plain": [
       "True"
      ]
     },
     "execution_count": 50,
     "metadata": {},
     "output_type": "execute_result"
    }
   ],
   "source": [
    "x_int not in x_list"
   ]
  },
  {
   "cell_type": "code",
   "execution_count": 51,
   "id": "75a63a05",
   "metadata": {},
   "outputs": [
    {
     "data": {
      "text/plain": [
       "0"
      ]
     },
     "execution_count": 51,
     "metadata": {},
     "output_type": "execute_result"
    }
   ],
   "source": [
    "1 if x_int % 2 == 0 else 0 # ternary operator"
   ]
  },
  {
   "cell_type": "code",
   "execution_count": 52,
   "id": "2833aebe",
   "metadata": {},
   "outputs": [
    {
     "data": {
      "text/plain": [
       "1"
      ]
     },
     "execution_count": 52,
     "metadata": {},
     "output_type": "execute_result"
    }
   ],
   "source": [
    "'hello' and 1"
   ]
  },
  {
   "cell_type": "code",
   "execution_count": 53,
   "id": "c8959c99",
   "metadata": {},
   "outputs": [
    {
     "data": {
      "text/plain": [
       "''"
      ]
     },
     "execution_count": 53,
     "metadata": {},
     "output_type": "execute_result"
    }
   ],
   "source": [
    "'' and 1"
   ]
  },
  {
   "cell_type": "code",
   "execution_count": 54,
   "id": "b489301d",
   "metadata": {},
   "outputs": [
    {
     "data": {
      "text/plain": [
       "'hello'"
      ]
     },
     "execution_count": 54,
     "metadata": {},
     "output_type": "execute_result"
    }
   ],
   "source": [
    "'hello' or 'fallback'"
   ]
  },
  {
   "cell_type": "code",
   "execution_count": 55,
   "id": "03b374a6",
   "metadata": {},
   "outputs": [
    {
     "data": {
      "text/plain": [
       "'fallback'"
      ]
     },
     "execution_count": 55,
     "metadata": {},
     "output_type": "execute_result"
    }
   ],
   "source": [
    "'' or 'fallback'"
   ]
  },
  {
   "cell_type": "markdown",
   "id": "f8bb54e6",
   "metadata": {},
   "source": [
    "### Keyword in python"
   ]
  },
  {
   "cell_type": "code",
   "execution_count": 56,
   "id": "d3cd0f54",
   "metadata": {},
   "outputs": [
    {
     "name": "stdout",
     "output_type": "stream",
     "text": [
      "\n",
      "Here is a list of the Python keywords.  Enter any keyword to get more help.\n",
      "\n",
      "False               class               from                or\n",
      "None                continue            global              pass\n",
      "True                def                 if                  raise\n",
      "and                 del                 import              return\n",
      "as                  elif                in                  try\n",
      "assert              else                is                  while\n",
      "async               except              lambda              with\n",
      "await               finally             nonlocal            yield\n",
      "break               for                 not                 \n",
      "\n"
     ]
    }
   ],
   "source": [
    "help('keywords')"
   ]
  },
  {
   "cell_type": "code",
   "execution_count": 57,
   "id": "89c32c40",
   "metadata": {},
   "outputs": [
    {
     "ename": "AssertionError",
     "evalue": "",
     "output_type": "error",
     "traceback": [
      "\u001b[0;31m---------------------------------------------------------------------------\u001b[0m",
      "\u001b[0;31mAssertionError\u001b[0m                            Traceback (most recent call last)",
      "Cell \u001b[0;32mIn[57], line 1\u001b[0m\n\u001b[0;32m----> 1\u001b[0m \u001b[38;5;28;01massert\u001b[39;00m(\u001b[38;5;241m2\u001b[39m \u001b[38;5;241m+\u001b[39m \u001b[38;5;241m2\u001b[39m \u001b[38;5;241m==\u001b[39m \u001b[38;5;241m22\u001b[39m) \u001b[38;5;66;03m# useful in debugging\u001b[39;00m\n",
      "\u001b[0;31mAssertionError\u001b[0m: "
     ]
    }
   ],
   "source": [
    "assert(2 + 2 == 22) # useful in debugging"
   ]
  },
  {
   "cell_type": "code",
   "execution_count": 58,
   "id": "6a417c1f",
   "metadata": {},
   "outputs": [
    {
     "data": {
      "text/plain": [
       "7"
      ]
     },
     "execution_count": 58,
     "metadata": {},
     "output_type": "execute_result"
    }
   ],
   "source": [
    "x_int = 7\n",
    "x_int"
   ]
  },
  {
   "cell_type": "code",
   "execution_count": 59,
   "id": "c140dd3c",
   "metadata": {},
   "outputs": [
    {
     "ename": "NameError",
     "evalue": "name 'x_int' is not defined",
     "output_type": "error",
     "traceback": [
      "\u001b[0;31m---------------------------------------------------------------------------\u001b[0m",
      "\u001b[0;31mNameError\u001b[0m                                 Traceback (most recent call last)",
      "Cell \u001b[0;32mIn[59], line 2\u001b[0m\n\u001b[1;32m      1\u001b[0m \u001b[38;5;28;01mdel\u001b[39;00m x_int \n\u001b[0;32m----> 2\u001b[0m \u001b[43mx_int\u001b[49m \u001b[38;5;66;03m#! NameError\u001b[39;00m\n",
      "\u001b[0;31mNameError\u001b[0m: name 'x_int' is not defined"
     ]
    }
   ],
   "source": [
    "del x_int \n",
    "x_int #! NameError"
   ]
  },
  {
   "cell_type": "code",
   "execution_count": 60,
   "id": "dc883e17",
   "metadata": {},
   "outputs": [
    {
     "data": {
      "text/plain": [
       "10"
      ]
     },
     "execution_count": 60,
     "metadata": {},
     "output_type": "execute_result"
    }
   ],
   "source": [
    "x_int = 5\n",
    "def foo():\n",
    "    global x_int\n",
    "    x_int = 10\n",
    "    \n",
    "foo() # updates global variable\n",
    "x_int"
   ]
  },
  {
   "cell_type": "code",
   "execution_count": 61,
   "id": "d8085478",
   "metadata": {},
   "outputs": [
    {
     "data": {
      "text/plain": [
       "(15, 5)"
      ]
     },
     "execution_count": 61,
     "metadata": {},
     "output_type": "execute_result"
    }
   ],
   "source": [
    "x_int = 5\n",
    "def wrap():\n",
    "    x_int = 10\n",
    "    \n",
    "    def foo():\n",
    "        nonlocal x_int # refers to the nearest variable in parent scope\n",
    "        x_int = 15\n",
    "    \n",
    "    foo()\n",
    "    return x_int\n",
    "\n",
    "wrap(), x_int"
   ]
  },
  {
   "cell_type": "code",
   "execution_count": 62,
   "id": "ef4bf993",
   "metadata": {},
   "outputs": [],
   "source": [
    "add_one = lambda x: x + 1 # anonymous function"
   ]
  },
  {
   "cell_type": "code",
   "execution_count": 63,
   "id": "cd0c85f6",
   "metadata": {},
   "outputs": [
    {
     "data": {
      "text/plain": [
       "True"
      ]
     },
     "execution_count": 63,
     "metadata": {},
     "output_type": "execute_result"
    }
   ],
   "source": [
    "callable(add_one)"
   ]
  },
  {
   "cell_type": "code",
   "execution_count": 64,
   "id": "1520eeb5",
   "metadata": {},
   "outputs": [
    {
     "data": {
      "text/plain": [
       "2"
      ]
     },
     "execution_count": 64,
     "metadata": {},
     "output_type": "execute_result"
    }
   ],
   "source": [
    "add_one(1)"
   ]
  },
  {
   "cell_type": "code",
   "execution_count": 65,
   "id": "1a863465",
   "metadata": {},
   "outputs": [],
   "source": [
    "def bar():\n",
    "    pass # used to complete the syntax"
   ]
  },
  {
   "cell_type": "code",
   "execution_count": 66,
   "id": "a9641fcb",
   "metadata": {},
   "outputs": [
    {
     "name": "stdout",
     "output_type": "stream",
     "text": [
      "1\n",
      "2\n",
      "3\n",
      "4\n",
      "5\n"
     ]
    },
    {
     "ename": "StopIteration",
     "evalue": "",
     "output_type": "error",
     "traceback": [
      "\u001b[0;31m---------------------------------------------------------------------------\u001b[0m",
      "\u001b[0;31mStopIteration\u001b[0m                             Traceback (most recent call last)",
      "Cell \u001b[0;32mIn[66], line 7\u001b[0m\n\u001b[1;32m      4\u001b[0m \u001b[38;5;28mprint\u001b[39m(x_int)\n\u001b[1;32m      6\u001b[0m \u001b[38;5;28;01mif\u001b[39;00m x_int \u001b[38;5;241m==\u001b[39m \u001b[38;5;241m5\u001b[39m:\n\u001b[0;32m----> 7\u001b[0m     \u001b[38;5;28;01mraise\u001b[39;00m \u001b[38;5;167;01mStopIteration\u001b[39;00m\n",
      "\u001b[0;31mStopIteration\u001b[0m: "
     ]
    }
   ],
   "source": [
    "x_int = 0\n",
    "while True:\n",
    "    x_int += 1\n",
    "    print(x_int)\n",
    "    \n",
    "    if x_int == 5:\n",
    "        raise StopIteration # raise Error"
   ]
  },
  {
   "cell_type": "code",
   "execution_count": 70,
   "id": "3d9b9a8f",
   "metadata": {},
   "outputs": [],
   "source": [
    "def irange(start, stop, step=1):\n",
    "    x = start\n",
    "    while x <= stop:\n",
    "        yield x # yield used to create generator\n",
    "        x += step"
   ]
  },
  {
   "cell_type": "code",
   "execution_count": 72,
   "id": "ca69222e",
   "metadata": {},
   "outputs": [
    {
     "name": "stdout",
     "output_type": "stream",
     "text": [
      "1 2 3 4 5 6 7 8 9 10 "
     ]
    }
   ],
   "source": [
    "for xi in irange(1,10):\n",
    "    print(xi, end=' ')"
   ]
  }
 ],
 "metadata": {
  "kernelspec": {
   "display_name": "Python 3 (ipykernel)",
   "language": "python",
   "name": "python3"
  },
  "language_info": {
   "codemirror_mode": {
    "name": "ipython",
    "version": 3
   },
   "file_extension": ".py",
   "mimetype": "text/x-python",
   "name": "python",
   "nbconvert_exporter": "python",
   "pygments_lexer": "ipython3",
   "version": "3.11.3"
  }
 },
 "nbformat": 4,
 "nbformat_minor": 5
}
