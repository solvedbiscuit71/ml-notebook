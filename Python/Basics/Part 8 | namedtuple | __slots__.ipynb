{
 "cells": [
  {
   "cell_type": "code",
   "execution_count": 1,
   "id": "e6b716ee",
   "metadata": {},
   "outputs": [],
   "source": [
    "from collections import namedtuple"
   ]
  },
  {
   "cell_type": "code",
   "execution_count": 2,
   "id": "2cdb40ad",
   "metadata": {},
   "outputs": [],
   "source": [
    "Point = namedtuple('Point', ['x','y'], defaults=[0,0])"
   ]
  },
  {
   "cell_type": "code",
   "execution_count": 3,
   "id": "f3e2bbf3",
   "metadata": {},
   "outputs": [
    {
     "data": {
      "text/plain": [
       "True"
      ]
     },
     "execution_count": 3,
     "metadata": {},
     "output_type": "execute_result"
    }
   ],
   "source": [
    "issubclass(Point, tuple)"
   ]
  },
  {
   "cell_type": "markdown",
   "id": "80757407",
   "metadata": {},
   "source": [
    "### Methods on namedtuple"
   ]
  },
  {
   "cell_type": "code",
   "execution_count": 4,
   "id": "28fae300",
   "metadata": {},
   "outputs": [
    {
     "data": {
      "text/plain": [
       "('x', 'y')"
      ]
     },
     "execution_count": 4,
     "metadata": {},
     "output_type": "execute_result"
    }
   ],
   "source": [
    "Point._fields"
   ]
  },
  {
   "cell_type": "code",
   "execution_count": 5,
   "id": "f331078e",
   "metadata": {},
   "outputs": [
    {
     "data": {
      "text/plain": [
       "{'x': 0, 'y': 0}"
      ]
     },
     "execution_count": 5,
     "metadata": {},
     "output_type": "execute_result"
    }
   ],
   "source": [
    "Point._field_defaults"
   ]
  },
  {
   "cell_type": "code",
   "execution_count": 6,
   "id": "b0c30744",
   "metadata": {},
   "outputs": [
    {
     "data": {
      "text/plain": [
       "Point(x=0, y=1)"
      ]
     },
     "execution_count": 6,
     "metadata": {},
     "output_type": "execute_result"
    }
   ],
   "source": [
    "p1 = Point(0,1)\n",
    "p1"
   ]
  },
  {
   "cell_type": "code",
   "execution_count": 7,
   "id": "c4166284",
   "metadata": {},
   "outputs": [
    {
     "data": {
      "text/plain": [
       "Point(x=1, y=0)"
      ]
     },
     "execution_count": 7,
     "metadata": {},
     "output_type": "execute_result"
    }
   ],
   "source": [
    "p2 = Point(1,0)\n",
    "p2"
   ]
  },
  {
   "cell_type": "code",
   "execution_count": 8,
   "id": "2e1b627a",
   "metadata": {},
   "outputs": [
    {
     "data": {
      "text/plain": [
       "False"
      ]
     },
     "execution_count": 8,
     "metadata": {},
     "output_type": "execute_result"
    }
   ],
   "source": [
    "p1 == p2 # namedtuple implement __eq__()"
   ]
  },
  {
   "cell_type": "code",
   "execution_count": 9,
   "id": "a0680fb7",
   "metadata": {},
   "outputs": [
    {
     "data": {
      "text/plain": [
       "{'x': 0, 'y': 1}"
      ]
     },
     "execution_count": 9,
     "metadata": {},
     "output_type": "execute_result"
    }
   ],
   "source": [
    "p1._asdict()"
   ]
  },
  {
   "cell_type": "code",
   "execution_count": 10,
   "id": "bbe55395",
   "metadata": {},
   "outputs": [],
   "source": [
    "p1 = p2"
   ]
  },
  {
   "cell_type": "code",
   "execution_count": 11,
   "id": "c38d3a7a",
   "metadata": {},
   "outputs": [
    {
     "data": {
      "text/plain": [
       "True"
      ]
     },
     "execution_count": 11,
     "metadata": {},
     "output_type": "execute_result"
    }
   ],
   "source": [
    "p1 is p2"
   ]
  },
  {
   "cell_type": "code",
   "execution_count": 12,
   "id": "d853c02f",
   "metadata": {},
   "outputs": [
    {
     "data": {
      "text/plain": [
       "True"
      ]
     },
     "execution_count": 12,
     "metadata": {},
     "output_type": "execute_result"
    }
   ],
   "source": [
    "p1 == p2"
   ]
  },
  {
   "cell_type": "markdown",
   "id": "3dc0b209",
   "metadata": {},
   "source": [
    "### \\_\\_slots\\_\\_\n",
    "\n",
    "prevents `__dict__` and save memory"
   ]
  },
  {
   "cell_type": "code",
   "execution_count": 13,
   "id": "d01c7c65",
   "metadata": {},
   "outputs": [],
   "source": [
    "from datetime import date"
   ]
  },
  {
   "cell_type": "code",
   "execution_count": 14,
   "id": "a6c06c78",
   "metadata": {},
   "outputs": [],
   "source": [
    "class Base:\n",
    "    __slots__ = 'name', 'age'\n",
    "    \n",
    "    def __init__(self, name, age):\n",
    "        self.name = name\n",
    "        self.age = age\n",
    "        \n",
    "    def __repr__(self):\n",
    "        return f\"Base(name='{self.name}', age={self.age})\""
   ]
  },
  {
   "cell_type": "code",
   "execution_count": 15,
   "id": "b3699204",
   "metadata": {},
   "outputs": [],
   "source": [
    "b1 = Base('praveen', 19)"
   ]
  },
  {
   "cell_type": "code",
   "execution_count": 16,
   "id": "ef552382",
   "metadata": {},
   "outputs": [
    {
     "data": {
      "text/plain": [
       "Base(name='praveen', age=19)"
      ]
     },
     "execution_count": 16,
     "metadata": {},
     "output_type": "execute_result"
    }
   ],
   "source": [
    "b1"
   ]
  },
  {
   "cell_type": "code",
   "execution_count": 17,
   "id": "8a184d65",
   "metadata": {},
   "outputs": [
    {
     "ename": "AttributeError",
     "evalue": "'Base' object has no attribute 'dob'",
     "output_type": "error",
     "traceback": [
      "\u001b[0;31m---------------------------------------------------------------------------\u001b[0m",
      "\u001b[0;31mAttributeError\u001b[0m                            Traceback (most recent call last)",
      "Cell \u001b[0;32mIn[17], line 1\u001b[0m\n\u001b[0;32m----> 1\u001b[0m \u001b[43mb1\u001b[49m\u001b[38;5;241;43m.\u001b[39;49m\u001b[43mdob\u001b[49m \u001b[38;5;241m=\u001b[39m date(\u001b[38;5;241m2004\u001b[39m,\u001b[38;5;241m1\u001b[39m,\u001b[38;5;241m13\u001b[39m)\n",
      "\u001b[0;31mAttributeError\u001b[0m: 'Base' object has no attribute 'dob'"
     ]
    }
   ],
   "source": [
    "b1.dob = date(2004,1,13)"
   ]
  },
  {
   "cell_type": "code",
   "execution_count": 18,
   "id": "ee949349",
   "metadata": {},
   "outputs": [],
   "source": [
    "class Child(Base):\n",
    "    __slots__ = 'dob'\n",
    "    \n",
    "    def __init__(self, name, age, dob):\n",
    "        self.dob = dob\n",
    "        \n",
    "        Base.__init__(self, name, age)\n",
    "        \n",
    "    @property\n",
    "    def is_age(self):\n",
    "        return ((date.today() - self.dob).days // 365) == self.age\n",
    "    \n",
    "    def __repr__(self):\n",
    "        return f\"Child(name='{self.name}', age={self.age}, dob={self.dob})\""
   ]
  },
  {
   "cell_type": "code",
   "execution_count": 19,
   "id": "a32e3ea5",
   "metadata": {},
   "outputs": [],
   "source": [
    "c1 = Child('praveen', 19, date(2004,1,13))"
   ]
  },
  {
   "cell_type": "code",
   "execution_count": 20,
   "id": "6cad0b8b",
   "metadata": {},
   "outputs": [
    {
     "data": {
      "text/plain": [
       "Child(name='praveen', age=19, dob=2004-01-13)"
      ]
     },
     "execution_count": 20,
     "metadata": {},
     "output_type": "execute_result"
    }
   ],
   "source": [
    "c1"
   ]
  },
  {
   "cell_type": "code",
   "execution_count": 21,
   "id": "6cb58bb4",
   "metadata": {},
   "outputs": [
    {
     "data": {
      "text/plain": [
       "True"
      ]
     },
     "execution_count": 21,
     "metadata": {},
     "output_type": "execute_result"
    }
   ],
   "source": [
    "c1.is_age"
   ]
  }
 ],
 "metadata": {
  "kernelspec": {
   "display_name": "Python 3 (ipykernel)",
   "language": "python",
   "name": "python3"
  },
  "language_info": {
   "codemirror_mode": {
    "name": "ipython",
    "version": 3
   },
   "file_extension": ".py",
   "mimetype": "text/x-python",
   "name": "python",
   "nbconvert_exporter": "python",
   "pygments_lexer": "ipython3",
   "version": "3.11.3"
  }
 },
 "nbformat": 4,
 "nbformat_minor": 5
}
