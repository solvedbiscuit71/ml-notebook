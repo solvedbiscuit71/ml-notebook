{
 "cells": [
  {
   "cell_type": "markdown",
   "id": "ce5c0b77",
   "metadata": {},
   "source": [
    "### Classes"
   ]
  },
  {
   "cell_type": "code",
   "execution_count": 1,
   "id": "4e961653",
   "metadata": {},
   "outputs": [],
   "source": [
    "class Human:\n",
    "    # class attribute\n",
    "    species = 'Homo Sapiens'\n",
    "    \n",
    "    def __init__(self, name):\n",
    "        # instance attribute\n",
    "        self.name = name\n",
    "        \n",
    "    # instance method\n",
    "    def say(self, msg):\n",
    "        print(f\"[{self.name}]: {msg}\")\n",
    "    \n",
    "    @classmethod\n",
    "    def get_species(cls):\n",
    "        return cls.species\n",
    "    \n",
    "    @staticmethod\n",
    "    def is_human():\n",
    "        return True"
   ]
  },
  {
   "cell_type": "code",
   "execution_count": 2,
   "id": "453c48db",
   "metadata": {},
   "outputs": [],
   "source": [
    "biscuit = Human('Praveen Perumal')"
   ]
  },
  {
   "cell_type": "code",
   "execution_count": 3,
   "id": "a5b63a5b",
   "metadata": {},
   "outputs": [
    {
     "data": {
      "text/plain": [
       "True"
      ]
     },
     "execution_count": 3,
     "metadata": {},
     "output_type": "execute_result"
    }
   ],
   "source": [
    "biscuit.is_human()"
   ]
  },
  {
   "cell_type": "code",
   "execution_count": 4,
   "id": "96ebdac6",
   "metadata": {},
   "outputs": [
    {
     "data": {
      "text/plain": [
       "'Homo Sapiens'"
      ]
     },
     "execution_count": 4,
     "metadata": {},
     "output_type": "execute_result"
    }
   ],
   "source": [
    "biscuit.get_species()"
   ]
  },
  {
   "cell_type": "code",
   "execution_count": 5,
   "id": "3977b9ee",
   "metadata": {},
   "outputs": [
    {
     "name": "stdout",
     "output_type": "stream",
     "text": [
      "[Praveen Perumal]: Hi, I am solvedbiscuit71\n"
     ]
    }
   ],
   "source": [
    "biscuit.say(\"Hi, I am solvedbiscuit71\")"
   ]
  },
  {
   "cell_type": "code",
   "execution_count": 6,
   "id": "5e69a14f",
   "metadata": {},
   "outputs": [],
   "source": [
    "biscuit.name = 'solvedbiscuit71'"
   ]
  },
  {
   "cell_type": "code",
   "execution_count": 7,
   "id": "cc29151b",
   "metadata": {},
   "outputs": [
    {
     "name": "stdout",
     "output_type": "stream",
     "text": [
      "[solvedbiscuit71]: Hi, I am solvedbiscuit71\n"
     ]
    }
   ],
   "source": [
    "biscuit.say(\"Hi, I am solvedbiscuit71\")"
   ]
  },
  {
   "cell_type": "code",
   "execution_count": 8,
   "id": "27dfcbbd",
   "metadata": {},
   "outputs": [
    {
     "data": {
      "text/plain": [
       "True"
      ]
     },
     "execution_count": 8,
     "metadata": {},
     "output_type": "execute_result"
    }
   ],
   "source": [
    "biscuit.species is Human.species"
   ]
  },
  {
   "cell_type": "code",
   "execution_count": 9,
   "id": "5852a1d6",
   "metadata": {},
   "outputs": [],
   "source": [
    "biscuit.species = 'Biscuit'"
   ]
  },
  {
   "cell_type": "code",
   "execution_count": 10,
   "id": "54e51122",
   "metadata": {},
   "outputs": [
    {
     "data": {
      "text/plain": [
       "False"
      ]
     },
     "execution_count": 10,
     "metadata": {},
     "output_type": "execute_result"
    }
   ],
   "source": [
    "biscuit.species is Human.species"
   ]
  },
  {
   "cell_type": "code",
   "execution_count": 11,
   "id": "f3fbdc4d",
   "metadata": {},
   "outputs": [
    {
     "data": {
      "text/plain": [
       "'Biscuit'"
      ]
     },
     "execution_count": 11,
     "metadata": {},
     "output_type": "execute_result"
    }
   ],
   "source": [
    "biscuit.species # class attributes becomes instance attribute"
   ]
  },
  {
   "cell_type": "code",
   "execution_count": 12,
   "id": "4f3a01ce",
   "metadata": {},
   "outputs": [
    {
     "data": {
      "text/plain": [
       "'Homo Sapiens'"
      ]
     },
     "execution_count": 12,
     "metadata": {},
     "output_type": "execute_result"
    }
   ],
   "source": [
    "biscuit.get_species()"
   ]
  },
  {
   "cell_type": "code",
   "execution_count": 13,
   "id": "0090fa38",
   "metadata": {},
   "outputs": [],
   "source": [
    "Human.species = biscuit.species # updates the class attribute itself"
   ]
  },
  {
   "cell_type": "code",
   "execution_count": 14,
   "id": "6eb1905e",
   "metadata": {},
   "outputs": [
    {
     "data": {
      "text/plain": [
       "True"
      ]
     },
     "execution_count": 14,
     "metadata": {},
     "output_type": "execute_result"
    }
   ],
   "source": [
    "Human.species is biscuit.species"
   ]
  },
  {
   "cell_type": "code",
   "execution_count": 15,
   "id": "21ffc7f6",
   "metadata": {},
   "outputs": [
    {
     "data": {
      "text/plain": [
       "'Biscuit'"
      ]
     },
     "execution_count": 15,
     "metadata": {},
     "output_type": "execute_result"
    }
   ],
   "source": [
    "biscuit.get_species()"
   ]
  },
  {
   "cell_type": "code",
   "execution_count": 16,
   "id": "d810d97d",
   "metadata": {},
   "outputs": [],
   "source": [
    "class Human:\n",
    "    # class attribute\n",
    "    species = 'Homo Sapiens'\n",
    "    \n",
    "    def __init__(self, name):\n",
    "        # instance attribute\n",
    "        self.name = name\n",
    "        \n",
    "    # instance method\n",
    "    def say(self, msg):\n",
    "        print(f\"[{self.name}]: {msg}\")\n",
    "    \n",
    "    @classmethod\n",
    "    def get_species(cls):\n",
    "        return cls.species\n",
    "    \n",
    "    @staticmethod\n",
    "    def is_human():\n",
    "        return True"
   ]
  },
  {
   "cell_type": "code",
   "execution_count": 17,
   "id": "60e68636",
   "metadata": {},
   "outputs": [],
   "source": [
    "someone = Human(\"anonymous\")"
   ]
  },
  {
   "cell_type": "code",
   "execution_count": 18,
   "id": "662222aa",
   "metadata": {},
   "outputs": [
    {
     "data": {
      "text/plain": [
       "'Homo Sapiens'"
      ]
     },
     "execution_count": 18,
     "metadata": {},
     "output_type": "execute_result"
    }
   ],
   "source": [
    "someone.get_species()"
   ]
  },
  {
   "cell_type": "markdown",
   "id": "4025ccfc",
   "metadata": {},
   "source": [
    "### Inheritance"
   ]
  },
  {
   "cell_type": "code",
   "execution_count": 19,
   "id": "eda78117",
   "metadata": {},
   "outputs": [],
   "source": [
    "class Biscuit(Human):\n",
    "    species = 'Biscuit'\n",
    "    \n",
    "    def __init__(self, name, eatable=False):\n",
    "        self.eatable = eatable\n",
    "        super().__init__(name)\n",
    "    \n",
    "    def say(self, msg):\n",
    "        print(f\"((Biscuit)): {msg}\")\n",
    "    \n",
    "    @staticmethod\n",
    "    def is_human():\n",
    "        return False"
   ]
  },
  {
   "cell_type": "code",
   "execution_count": 20,
   "id": "c3b62f42",
   "metadata": {},
   "outputs": [],
   "source": [
    "biscuit = Biscuit('solvedbiscuit')"
   ]
  },
  {
   "cell_type": "code",
   "execution_count": 21,
   "id": "c31b0813",
   "metadata": {},
   "outputs": [
    {
     "data": {
      "text/plain": [
       "True"
      ]
     },
     "execution_count": 21,
     "metadata": {},
     "output_type": "execute_result"
    }
   ],
   "source": [
    "isinstance(biscuit, Biscuit)"
   ]
  },
  {
   "cell_type": "code",
   "execution_count": 22,
   "id": "052c37c4",
   "metadata": {},
   "outputs": [
    {
     "data": {
      "text/plain": [
       "True"
      ]
     },
     "execution_count": 22,
     "metadata": {},
     "output_type": "execute_result"
    }
   ],
   "source": [
    "isinstance(biscuit, Human)"
   ]
  },
  {
   "cell_type": "code",
   "execution_count": 27,
   "id": "4c09e70c",
   "metadata": {},
   "outputs": [
    {
     "data": {
      "text/plain": [
       "True"
      ]
     },
     "execution_count": 27,
     "metadata": {},
     "output_type": "execute_result"
    }
   ],
   "source": [
    "issubclass(Biscuit, Human)"
   ]
  },
  {
   "cell_type": "code",
   "execution_count": 23,
   "id": "6a52ec5d",
   "metadata": {},
   "outputs": [
    {
     "name": "stdout",
     "output_type": "stream",
     "text": [
      "(<class '__main__.Biscuit'>, <class '__main__.Human'>, <class 'object'>)\n"
     ]
    }
   ],
   "source": [
    "print(Biscuit.__mro__)"
   ]
  },
  {
   "cell_type": "code",
   "execution_count": 24,
   "id": "fdcb4012",
   "metadata": {},
   "outputs": [
    {
     "data": {
      "text/plain": [
       "'Biscuit'"
      ]
     },
     "execution_count": 24,
     "metadata": {},
     "output_type": "execute_result"
    }
   ],
   "source": [
    "biscuit.get_species()"
   ]
  },
  {
   "cell_type": "code",
   "execution_count": 25,
   "id": "3f76e2c9",
   "metadata": {},
   "outputs": [
    {
     "name": "stdout",
     "output_type": "stream",
     "text": [
      "((Biscuit)): hello,\n"
     ]
    }
   ],
   "source": [
    "biscuit.say('hello,') # override instance method"
   ]
  },
  {
   "cell_type": "code",
   "execution_count": 26,
   "id": "a528bc07",
   "metadata": {},
   "outputs": [
    {
     "data": {
      "text/plain": [
       "False"
      ]
     },
     "execution_count": 26,
     "metadata": {},
     "output_type": "execute_result"
    }
   ],
   "source": [
    "biscuit.is_human()"
   ]
  }
 ],
 "metadata": {
  "kernelspec": {
   "display_name": "Python 3 (ipykernel)",
   "language": "python",
   "name": "python3"
  },
  "language_info": {
   "codemirror_mode": {
    "name": "ipython",
    "version": 3
   },
   "file_extension": ".py",
   "mimetype": "text/x-python",
   "name": "python",
   "nbconvert_exporter": "python",
   "pygments_lexer": "ipython3",
   "version": "3.11.3"
  }
 },
 "nbformat": 4,
 "nbformat_minor": 5
}
