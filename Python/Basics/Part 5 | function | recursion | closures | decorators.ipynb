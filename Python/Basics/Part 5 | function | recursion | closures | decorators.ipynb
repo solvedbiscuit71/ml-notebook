{
 "cells": [
  {
   "cell_type": "markdown",
   "id": "7e6a0b27",
   "metadata": {},
   "source": [
    "### Functions\n",
    "\n",
    "In python, function are first class meaning they can passed to other function as argument or return by other function"
   ]
  },
  {
   "cell_type": "code",
   "execution_count": 1,
   "id": "fa05874c",
   "metadata": {},
   "outputs": [],
   "source": [
    "def add(a, b = 5):\n",
    "    return a + b"
   ]
  },
  {
   "cell_type": "code",
   "execution_count": 2,
   "id": "d8c7351b",
   "metadata": {},
   "outputs": [
    {
     "data": {
      "text/plain": [
       "6"
      ]
     },
     "execution_count": 2,
     "metadata": {},
     "output_type": "execute_result"
    }
   ],
   "source": [
    "add(1) # b = 5 (default)"
   ]
  },
  {
   "cell_type": "code",
   "execution_count": 3,
   "id": "630eedd9",
   "metadata": {},
   "outputs": [
    {
     "data": {
      "text/plain": [
       "3"
      ]
     },
     "execution_count": 3,
     "metadata": {},
     "output_type": "execute_result"
    }
   ],
   "source": [
    "add(1, 2)"
   ]
  },
  {
   "cell_type": "code",
   "execution_count": 4,
   "id": "dbab7636",
   "metadata": {},
   "outputs": [
    {
     "data": {
      "text/plain": [
       "3"
      ]
     },
     "execution_count": 4,
     "metadata": {},
     "output_type": "execute_result"
    }
   ],
   "source": [
    "add(*[1,2]) # * operator args"
   ]
  },
  {
   "cell_type": "code",
   "execution_count": 5,
   "id": "0e73976b",
   "metadata": {},
   "outputs": [
    {
     "data": {
      "text/plain": [
       "3"
      ]
     },
     "execution_count": 5,
     "metadata": {},
     "output_type": "execute_result"
    }
   ],
   "source": [
    "add(b=2, a=1)"
   ]
  },
  {
   "cell_type": "code",
   "execution_count": 6,
   "id": "ae8bae14",
   "metadata": {},
   "outputs": [
    {
     "data": {
      "text/plain": [
       "3"
      ]
     },
     "execution_count": 6,
     "metadata": {},
     "output_type": "execute_result"
    }
   ],
   "source": [
    "add(**{'a': 1, 'b': 2}) # ** opertor kwargs"
   ]
  },
  {
   "cell_type": "markdown",
   "id": "dc889842",
   "metadata": {},
   "source": [
    "### Recursion"
   ]
  },
  {
   "cell_type": "code",
   "execution_count": 7,
   "id": "75c3aa06",
   "metadata": {},
   "outputs": [],
   "source": [
    "def fibo(n):\n",
    "    if n == 0 or n == 1:\n",
    "        return 1\n",
    "    return fibo(n-1) + fibo(n-2)"
   ]
  },
  {
   "cell_type": "code",
   "execution_count": 8,
   "id": "210f67d2",
   "metadata": {},
   "outputs": [
    {
     "data": {
      "text/plain": [
       "89"
      ]
     },
     "execution_count": 8,
     "metadata": {},
     "output_type": "execute_result"
    }
   ],
   "source": [
    "fibo(10)"
   ]
  },
  {
   "cell_type": "code",
   "execution_count": 9,
   "id": "832fddf4",
   "metadata": {},
   "outputs": [],
   "source": [
    "from functools import lru_cache"
   ]
  },
  {
   "cell_type": "code",
   "execution_count": 10,
   "id": "cdbd77ec",
   "metadata": {},
   "outputs": [],
   "source": [
    "@lru_cache(None)\n",
    "def fibo(n):\n",
    "    if n == 0 or n == 1:\n",
    "        return 1\n",
    "    return fibo(n-1) + fibo(n-2)"
   ]
  },
  {
   "cell_type": "code",
   "execution_count": 11,
   "id": "b3f2d8f9",
   "metadata": {},
   "outputs": [
    {
     "data": {
      "text/plain": [
       "573147844013817084101"
      ]
     },
     "execution_count": 11,
     "metadata": {},
     "output_type": "execute_result"
    }
   ],
   "source": [
    "fibo(100) # memoization"
   ]
  },
  {
   "cell_type": "markdown",
   "id": "7acd7c0b",
   "metadata": {},
   "source": [
    "### Arbitary arguments"
   ]
  },
  {
   "cell_type": "code",
   "execution_count": 12,
   "id": "cc098618",
   "metadata": {},
   "outputs": [],
   "source": [
    "def product(*args): # type(args) is tuple\n",
    "    ans = 1\n",
    "    for xi in args:\n",
    "        ans *= xi\n",
    "    return ans"
   ]
  },
  {
   "cell_type": "code",
   "execution_count": 13,
   "id": "cb4ee081",
   "metadata": {},
   "outputs": [
    {
     "data": {
      "text/plain": [
       "24"
      ]
     },
     "execution_count": 13,
     "metadata": {},
     "output_type": "execute_result"
    }
   ],
   "source": [
    "product(1,2,3,4)"
   ]
  },
  {
   "cell_type": "code",
   "execution_count": 14,
   "id": "1d2cdf4d",
   "metadata": {},
   "outputs": [
    {
     "data": {
      "text/plain": [
       "[1, 2, 3, 4]"
      ]
     },
     "execution_count": 14,
     "metadata": {},
     "output_type": "execute_result"
    }
   ],
   "source": [
    "product([1,2,3,4]) # this doesn't work!"
   ]
  },
  {
   "cell_type": "code",
   "execution_count": 15,
   "id": "c50662e0",
   "metadata": {},
   "outputs": [
    {
     "data": {
      "text/plain": [
       "24"
      ]
     },
     "execution_count": 15,
     "metadata": {},
     "output_type": "execute_result"
    }
   ],
   "source": [
    "product(*[1,2,3,4])"
   ]
  },
  {
   "cell_type": "code",
   "execution_count": 16,
   "id": "c26d4bc7",
   "metadata": {},
   "outputs": [],
   "source": [
    "def print_details(**kwargs): # type(kwargs) is dict\n",
    "    for k,v in kwargs.items():\n",
    "        print(f\"[{k}]: {v}\")"
   ]
  },
  {
   "cell_type": "code",
   "execution_count": 17,
   "id": "7a805521",
   "metadata": {},
   "outputs": [
    {
     "name": "stdout",
     "output_type": "stream",
     "text": [
      "[name]: Praveen\n",
      "[age]: 19\n"
     ]
    }
   ],
   "source": [
    "print_details(name='Praveen', age=19)"
   ]
  },
  {
   "cell_type": "code",
   "execution_count": 18,
   "id": "9f3ea387",
   "metadata": {},
   "outputs": [
    {
     "ename": "TypeError",
     "evalue": "print_details() takes 0 positional arguments but 2 were given",
     "output_type": "error",
     "traceback": [
      "\u001b[0;31m---------------------------------------------------------------------------\u001b[0m",
      "\u001b[0;31mTypeError\u001b[0m                                 Traceback (most recent call last)",
      "Cell \u001b[0;32mIn[18], line 1\u001b[0m\n\u001b[0;32m----> 1\u001b[0m \u001b[43mprint_details\u001b[49m\u001b[43m(\u001b[49m\u001b[38;5;124;43m'\u001b[39;49m\u001b[38;5;124;43mPraveen\u001b[39;49m\u001b[38;5;124;43m'\u001b[39;49m\u001b[43m,\u001b[49m\u001b[43m \u001b[49m\u001b[38;5;241;43m19\u001b[39;49m\u001b[43m)\u001b[49m\n",
      "\u001b[0;31mTypeError\u001b[0m: print_details() takes 0 positional arguments but 2 were given"
     ]
    }
   ],
   "source": [
    "print_details('Praveen', 19)"
   ]
  },
  {
   "cell_type": "markdown",
   "id": "67b361c9",
   "metadata": {},
   "source": [
    "### Multiple returns"
   ]
  },
  {
   "cell_type": "code",
   "execution_count": 19,
   "id": "2ed6232d",
   "metadata": {},
   "outputs": [],
   "source": [
    "def foo():\n",
    "    return 1,2,'hello','world'"
   ]
  },
  {
   "cell_type": "code",
   "execution_count": 20,
   "id": "f3071d42",
   "metadata": {},
   "outputs": [
    {
     "data": {
      "text/plain": [
       "(1, 2, 'hello', 'world')"
      ]
     },
     "execution_count": 20,
     "metadata": {},
     "output_type": "execute_result"
    }
   ],
   "source": [
    "foo()"
   ]
  },
  {
   "cell_type": "code",
   "execution_count": 21,
   "id": "c119e165",
   "metadata": {},
   "outputs": [],
   "source": [
    "x,*args,y = foo() # unpacking"
   ]
  },
  {
   "cell_type": "code",
   "execution_count": 22,
   "id": "372a418f",
   "metadata": {},
   "outputs": [
    {
     "data": {
      "text/plain": [
       "(1, 'world')"
      ]
     },
     "execution_count": 22,
     "metadata": {},
     "output_type": "execute_result"
    }
   ],
   "source": [
    "x, y"
   ]
  },
  {
   "cell_type": "code",
   "execution_count": 23,
   "id": "802a765c",
   "metadata": {},
   "outputs": [
    {
     "data": {
      "text/plain": [
       "[2, 'hello']"
      ]
     },
     "execution_count": 23,
     "metadata": {},
     "output_type": "execute_result"
    }
   ],
   "source": [
    "args"
   ]
  },
  {
   "cell_type": "markdown",
   "id": "6923534c",
   "metadata": {},
   "source": [
    "### Closures"
   ]
  },
  {
   "cell_type": "code",
   "execution_count": 24,
   "id": "1a8e785a",
   "metadata": {},
   "outputs": [],
   "source": [
    "def outer():\n",
    "    x = 5\n",
    "    \n",
    "    def inner():\n",
    "        nonlocal x\n",
    "        print(x)\n",
    "    \n",
    "    return inner"
   ]
  },
  {
   "cell_type": "code",
   "execution_count": 25,
   "id": "c5103e2f",
   "metadata": {},
   "outputs": [],
   "source": [
    "inner = outer()"
   ]
  },
  {
   "cell_type": "code",
   "execution_count": 26,
   "id": "307f7a15",
   "metadata": {},
   "outputs": [
    {
     "name": "stdout",
     "output_type": "stream",
     "text": [
      "5\n"
     ]
    }
   ],
   "source": [
    "inner() # inner function has access to the outer() though the outer() is finished executing"
   ]
  },
  {
   "cell_type": "code",
   "execution_count": 27,
   "id": "c6d8ab7a",
   "metadata": {},
   "outputs": [],
   "source": [
    "def adder(x=1):\n",
    "    def add(n):\n",
    "        nonlocal x\n",
    "        return n+x\n",
    "    \n",
    "    return add"
   ]
  },
  {
   "cell_type": "code",
   "execution_count": 28,
   "id": "a5d6a590",
   "metadata": {},
   "outputs": [],
   "source": [
    "add_two = adder(2)"
   ]
  },
  {
   "cell_type": "code",
   "execution_count": 29,
   "id": "52fec00d",
   "metadata": {},
   "outputs": [
    {
     "data": {
      "text/plain": [
       "True"
      ]
     },
     "execution_count": 29,
     "metadata": {},
     "output_type": "execute_result"
    }
   ],
   "source": [
    "callable(add_two)"
   ]
  },
  {
   "cell_type": "code",
   "execution_count": 30,
   "id": "e93e1852",
   "metadata": {},
   "outputs": [
    {
     "data": {
      "text/plain": [
       "7"
      ]
     },
     "execution_count": 30,
     "metadata": {},
     "output_type": "execute_result"
    }
   ],
   "source": [
    "add_two(5)"
   ]
  },
  {
   "cell_type": "markdown",
   "id": "3e870906",
   "metadata": {},
   "source": [
    "### Decorators"
   ]
  },
  {
   "cell_type": "code",
   "execution_count": 34,
   "id": "920ff624",
   "metadata": {},
   "outputs": [],
   "source": [
    "def decorator(f):\n",
    "    def wrapper(*args, **kwargs):\n",
    "        print(\"called wrapper\")\n",
    "        return f(*args, **kwargs)\n",
    "        \n",
    "    return wrapper"
   ]
  },
  {
   "cell_type": "code",
   "execution_count": 35,
   "id": "00c5a9f5",
   "metadata": {},
   "outputs": [],
   "source": [
    "def foo():\n",
    "    print('hello, world')"
   ]
  },
  {
   "cell_type": "code",
   "execution_count": 36,
   "id": "5bf276f5",
   "metadata": {},
   "outputs": [
    {
     "name": "stdout",
     "output_type": "stream",
     "text": [
      "hello, world\n"
     ]
    }
   ],
   "source": [
    "foo()"
   ]
  },
  {
   "cell_type": "code",
   "execution_count": 37,
   "id": "194e31ae",
   "metadata": {},
   "outputs": [],
   "source": [
    "# Using decorator we can add functionality without modifing a function explicitly\n",
    "foo = decorator(foo)"
   ]
  },
  {
   "cell_type": "code",
   "execution_count": 38,
   "id": "88ad4b19",
   "metadata": {},
   "outputs": [
    {
     "name": "stdout",
     "output_type": "stream",
     "text": [
      "called wrapper\n",
      "hello, world\n"
     ]
    }
   ],
   "source": [
    "foo()"
   ]
  },
  {
   "cell_type": "markdown",
   "id": "b9a88ef0",
   "metadata": {},
   "source": [
    "#### syntactic sugar with @decorator"
   ]
  },
  {
   "cell_type": "code",
   "execution_count": 39,
   "id": "d9ba26fa",
   "metadata": {},
   "outputs": [],
   "source": [
    "@decorator\n",
    "def bar():\n",
    "    print('welcome to python')"
   ]
  },
  {
   "cell_type": "code",
   "execution_count": 40,
   "id": "3d72cae0",
   "metadata": {},
   "outputs": [
    {
     "name": "stdout",
     "output_type": "stream",
     "text": [
      "called wrapper\n",
      "welcome to python\n"
     ]
    }
   ],
   "source": [
    "bar()"
   ]
  },
  {
   "cell_type": "code",
   "execution_count": 41,
   "id": "1f3e5ccf",
   "metadata": {},
   "outputs": [],
   "source": [
    "def logger(f):\n",
    "    def wrapper(*args, **kwargs):\n",
    "        print(f'[call]: {f.__name__}(args={args}, kwargs={kwargs})')\n",
    "        ans = f(*args, **kwargs)\n",
    "        print(f'[return]: {f.__name__}(args={args}, kwargs={kwargs}) = {ans}')\n",
    "        return ans\n",
    "        \n",
    "    return wrapper"
   ]
  },
  {
   "cell_type": "code",
   "execution_count": 42,
   "id": "0ef31280",
   "metadata": {},
   "outputs": [],
   "source": [
    "@logger\n",
    "def fibo(n):\n",
    "    if n == 0 or n == 1:\n",
    "        return 1\n",
    "    return fibo(n-1) + fibo(n-2)"
   ]
  },
  {
   "cell_type": "code",
   "execution_count": 43,
   "id": "23a3e28a",
   "metadata": {},
   "outputs": [
    {
     "name": "stdout",
     "output_type": "stream",
     "text": [
      "[call]: fibo(args=(4,), kwargs={})\n",
      "[call]: fibo(args=(3,), kwargs={})\n",
      "[call]: fibo(args=(2,), kwargs={})\n",
      "[call]: fibo(args=(1,), kwargs={})\n",
      "[return]: fibo(args=(1,), kwargs={}) = 1\n",
      "[call]: fibo(args=(0,), kwargs={})\n",
      "[return]: fibo(args=(0,), kwargs={}) = 1\n",
      "[return]: fibo(args=(2,), kwargs={}) = 2\n",
      "[call]: fibo(args=(1,), kwargs={})\n",
      "[return]: fibo(args=(1,), kwargs={}) = 1\n",
      "[return]: fibo(args=(3,), kwargs={}) = 3\n",
      "[call]: fibo(args=(2,), kwargs={})\n",
      "[call]: fibo(args=(1,), kwargs={})\n",
      "[return]: fibo(args=(1,), kwargs={}) = 1\n",
      "[call]: fibo(args=(0,), kwargs={})\n",
      "[return]: fibo(args=(0,), kwargs={}) = 1\n",
      "[return]: fibo(args=(2,), kwargs={}) = 2\n",
      "[return]: fibo(args=(4,), kwargs={}) = 5\n"
     ]
    },
    {
     "data": {
      "text/plain": [
       "5"
      ]
     },
     "execution_count": 43,
     "metadata": {},
     "output_type": "execute_result"
    }
   ],
   "source": [
    "fibo(4)"
   ]
  }
 ],
 "metadata": {
  "kernelspec": {
   "display_name": "Python 3 (ipykernel)",
   "language": "python",
   "name": "python3"
  },
  "language_info": {
   "codemirror_mode": {
    "name": "ipython",
    "version": 3
   },
   "file_extension": ".py",
   "mimetype": "text/x-python",
   "name": "python",
   "nbconvert_exporter": "python",
   "pygments_lexer": "ipython3",
   "version": "3.11.3"
  }
 },
 "nbformat": 4,
 "nbformat_minor": 5
}
