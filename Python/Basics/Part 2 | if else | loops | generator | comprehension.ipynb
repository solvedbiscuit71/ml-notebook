{
 "cells": [
  {
   "cell_type": "markdown",
   "id": "7367e8c5",
   "metadata": {},
   "source": [
    "### Conditional statements"
   ]
  },
  {
   "cell_type": "code",
   "execution_count": 1,
   "id": "5a3e56a8",
   "metadata": {},
   "outputs": [
    {
     "name": "stdout",
     "output_type": "stream",
     "text": [
      "Welcome\n"
     ]
    }
   ],
   "source": [
    "x = 'Praveen'\n",
    "if x.lower() == 'praveen':\n",
    "    print(\"Welcome\")\n",
    "else:\n",
    "    print(\"who are you?\")"
   ]
  },
  {
   "cell_type": "code",
   "execution_count": 2,
   "id": "2fbd90a8",
   "metadata": {},
   "outputs": [
    {
     "name": "stdout",
     "output_type": "stream",
     "text": [
      "x is True\n",
      "x is truthy\n"
     ]
    }
   ],
   "source": [
    "x = True\n",
    "if x is True:\n",
    "    print(\"x is True\")\n",
    "    \n",
    "if x:\n",
    "    print(\"x is truthy\")"
   ]
  },
  {
   "cell_type": "code",
   "execution_count": 3,
   "id": "3b06cb2e",
   "metadata": {},
   "outputs": [
    {
     "name": "stdout",
     "output_type": "stream",
     "text": [
      "One\n"
     ]
    }
   ],
   "source": [
    "x = 1\n",
    "if x == 0:\n",
    "    print('Zero')\n",
    "elif x == 1:\n",
    "    print('One')\n",
    "else:\n",
    "    print('Neither 0 nor 1')"
   ]
  },
  {
   "cell_type": "code",
   "execution_count": 4,
   "id": "68a08087",
   "metadata": {},
   "outputs": [
    {
     "name": "stdout",
     "output_type": "stream",
     "text": [
      "8 is neither 0 nor 1, but its even\n"
     ]
    }
   ],
   "source": [
    "x = 8\n",
    "match x:\n",
    "    case 0:\n",
    "        print('Zero')\n",
    "    case 1:\n",
    "        print('One')\n",
    "    case x if x % 2 == 0: # guard clause\n",
    "        print(x, 'is neither 0 nor 1, but its even')\n",
    "    case _:\n",
    "        print('idk, what to do...')"
   ]
  },
  {
   "cell_type": "markdown",
   "id": "941e8130",
   "metadata": {},
   "source": [
    "match-case is a new feature introduced in 3.10"
   ]
  },
  {
   "cell_type": "markdown",
   "id": "a1522ee6",
   "metadata": {},
   "source": [
    "### Looping statements"
   ]
  },
  {
   "cell_type": "code",
   "execution_count": 5,
   "id": "646b508c",
   "metadata": {},
   "outputs": [
    {
     "name": "stdout",
     "output_type": "stream",
     "text": [
      "4\n",
      "2\n",
      "0\n"
     ]
    }
   ],
   "source": [
    "x = 5\n",
    "while True:\n",
    "    x -= 1\n",
    "    if x % 2:\n",
    "        continue\n",
    "    elif x < 0:\n",
    "        break\n",
    "    else:\n",
    "        print(x)\n",
    "else:\n",
    "    print(\"Print me if loop breaks naturally\")"
   ]
  },
  {
   "cell_type": "code",
   "execution_count": 6,
   "id": "e34d3c39",
   "metadata": {},
   "outputs": [
    {
     "name": "stdout",
     "output_type": "stream",
     "text": [
      "4\n",
      "2\n",
      "0\n",
      "Print me if loop breaks naturally\n"
     ]
    }
   ],
   "source": [
    "for x in range(4,-1,-2):\n",
    "    print(x)\n",
    "else:\n",
    "    print(\"Print me if loop breaks naturally\")"
   ]
  },
  {
   "cell_type": "markdown",
   "id": "bdd32247",
   "metadata": {},
   "source": [
    "### Generators"
   ]
  },
  {
   "cell_type": "code",
   "execution_count": 7,
   "id": "e3115f7c",
   "metadata": {},
   "outputs": [],
   "source": [
    "def gen():\n",
    "    a = 0\n",
    "    b = 1\n",
    "    \n",
    "    while True:\n",
    "        a, b = b, a + b\n",
    "        yield a"
   ]
  },
  {
   "cell_type": "code",
   "execution_count": 8,
   "id": "575e4b11",
   "metadata": {},
   "outputs": [],
   "source": [
    "fibo = gen()"
   ]
  },
  {
   "cell_type": "code",
   "execution_count": 9,
   "id": "a9f1cba0",
   "metadata": {},
   "outputs": [
    {
     "name": "stdout",
     "output_type": "stream",
     "text": [
      "1\n",
      "1\n",
      "2\n",
      "3\n",
      "5\n",
      "8\n",
      "13\n",
      "21\n",
      "34\n",
      "55\n"
     ]
    }
   ],
   "source": [
    "for _ in range(10):\n",
    "    print(next(fibo))"
   ]
  },
  {
   "cell_type": "code",
   "execution_count": 10,
   "id": "a24411b2",
   "metadata": {},
   "outputs": [
    {
     "name": "stdout",
     "output_type": "stream",
     "text": [
      "89\n",
      "144\n",
      "233\n",
      "377\n",
      "610\n",
      "987\n",
      "1597\n",
      "2584\n",
      "4181\n",
      "6765\n"
     ]
    }
   ],
   "source": [
    "for _ in range(10):\n",
    "    print(next(fibo))"
   ]
  },
  {
   "cell_type": "markdown",
   "id": "076c50f4",
   "metadata": {},
   "source": [
    "Generators are lazy loaded meaning, it is executed on demand"
   ]
  },
  {
   "cell_type": "markdown",
   "id": "73bf93aa",
   "metadata": {},
   "source": [
    "### Comprehensions"
   ]
  },
  {
   "cell_type": "code",
   "execution_count": 11,
   "id": "4dd55b11",
   "metadata": {},
   "outputs": [
    {
     "data": {
      "text/plain": [
       "['name 1',\n",
       " 'name 2',\n",
       " 'name 3',\n",
       " 'name 4',\n",
       " 'name 5',\n",
       " 'name 6',\n",
       " 'name 7',\n",
       " 'name 8',\n",
       " 'name 9']"
      ]
     },
     "execution_count": 11,
     "metadata": {},
     "output_type": "execute_result"
    }
   ],
   "source": [
    "[f\"name {x}\" for x in range(1,10)] # list comprehension"
   ]
  },
  {
   "cell_type": "code",
   "execution_count": 12,
   "id": "22bbd0fb",
   "metadata": {},
   "outputs": [
    {
     "data": {
      "text/plain": [
       "['even 2', 'even 4', 'even 6', 'even 8']"
      ]
     },
     "execution_count": 12,
     "metadata": {},
     "output_type": "execute_result"
    }
   ],
   "source": [
    "[f\"even {x}\" for x in range(1,10) if x % 2 == 0] # guard clause"
   ]
  },
  {
   "cell_type": "code",
   "execution_count": 13,
   "id": "90a14000",
   "metadata": {},
   "outputs": [
    {
     "data": {
      "text/plain": [
       "[[0, 1, 2], [3, 4, 5], [6, 7, 8]]"
      ]
     },
     "execution_count": 13,
     "metadata": {},
     "output_type": "execute_result"
    }
   ],
   "source": [
    "[[x + i for x in range(3)] for i in range(0,9,3)] # nested comprehension"
   ]
  },
  {
   "cell_type": "code",
   "execution_count": 14,
   "id": "c05d07c6",
   "metadata": {},
   "outputs": [],
   "source": [
    "gen = ('name ' + str(x) for x in range(1,10)) # generator comprehension"
   ]
  },
  {
   "cell_type": "code",
   "execution_count": 15,
   "id": "a4c41f0e",
   "metadata": {},
   "outputs": [
    {
     "name": "stdout",
     "output_type": "stream",
     "text": [
      "name 1\n",
      "name 2\n",
      "name 3\n",
      "name 4\n",
      "name 5\n",
      "name 6\n",
      "name 7\n",
      "name 8\n",
      "name 9\n"
     ]
    }
   ],
   "source": [
    "while True:\n",
    "    try:\n",
    "        print(next(gen))\n",
    "    except StopIteration:\n",
    "        break"
   ]
  },
  {
   "cell_type": "code",
   "execution_count": 16,
   "id": "24e86af1",
   "metadata": {},
   "outputs": [
    {
     "data": {
      "text/plain": [
       "{'name1': 'ABC', 'name2': 'MNO', 'name3': 'XYZ'}"
      ]
     },
     "execution_count": 16,
     "metadata": {},
     "output_type": "execute_result"
    }
   ],
   "source": [
    "{f\"name{i+1}\": x\n",
    " for i,x in enumerate('abc mno xyz'.upper().split(' '))} # dict comprehension"
   ]
  }
 ],
 "metadata": {
  "kernelspec": {
   "display_name": "Python 3 (ipykernel)",
   "language": "python",
   "name": "python3"
  },
  "language_info": {
   "codemirror_mode": {
    "name": "ipython",
    "version": 3
   },
   "file_extension": ".py",
   "mimetype": "text/x-python",
   "name": "python",
   "nbconvert_exporter": "python",
   "pygments_lexer": "ipython3",
   "version": "3.11.3"
  }
 },
 "nbformat": 4,
 "nbformat_minor": 5
}
