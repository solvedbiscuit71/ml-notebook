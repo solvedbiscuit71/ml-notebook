{
 "cells": [
  {
   "cell_type": "code",
   "execution_count": 1,
   "id": "49caad98",
   "metadata": {},
   "outputs": [],
   "source": [
    "import numpy as np"
   ]
  },
  {
   "cell_type": "code",
   "execution_count": 2,
   "id": "8d8dd8f1",
   "metadata": {},
   "outputs": [],
   "source": [
    "Obs = np.array([168, 170, 150, 160, 182, 140, 175])"
   ]
  },
  {
   "cell_type": "code",
   "execution_count": 3,
   "id": "ae395688",
   "metadata": {},
   "outputs": [
    {
     "data": {
      "text/plain": [
       "array([168, 170, 150, 160, 182, 140, 175])"
      ]
     },
     "execution_count": 3,
     "metadata": {},
     "output_type": "execute_result"
    }
   ],
   "source": [
    "Obs"
   ]
  },
  {
   "cell_type": "code",
   "execution_count": 4,
   "id": "19b3d94c",
   "metadata": {},
   "outputs": [],
   "source": [
    "def mean(x: np.ndarray):\n",
    "    N = x.size\n",
    "    Sum = np.sum(x)\n",
    "    \n",
    "    return Sum / N"
   ]
  },
  {
   "cell_type": "code",
   "execution_count": 5,
   "id": "03227ac2",
   "metadata": {},
   "outputs": [
    {
     "data": {
      "text/plain": [
       "163.57142857142858"
      ]
     },
     "execution_count": 5,
     "metadata": {},
     "output_type": "execute_result"
    }
   ],
   "source": [
    "mean(Obs)"
   ]
  },
  {
   "cell_type": "code",
   "execution_count": 6,
   "id": "d6cf3134",
   "metadata": {},
   "outputs": [
    {
     "data": {
      "text/plain": [
       "163.57142857142858"
      ]
     },
     "execution_count": 6,
     "metadata": {},
     "output_type": "execute_result"
    }
   ],
   "source": [
    "np.mean(Obs)"
   ]
  },
  {
   "cell_type": "code",
   "execution_count": 7,
   "id": "ca6e5175",
   "metadata": {},
   "outputs": [],
   "source": [
    "def var(x: np.ndarray):\n",
    "    N = x.size\n",
    "    mean = np.mean(Obs)\n",
    "    Sum = 0\n",
    "    \n",
    "    for xi in x:\n",
    "        Sum += (xi - mean) ** 2\n",
    "    \n",
    "    return Sum / N"
   ]
  },
  {
   "cell_type": "code",
   "execution_count": 8,
   "id": "7b7f0ada",
   "metadata": {},
   "outputs": [
    {
     "data": {
      "text/plain": [
       "183.38775510204079"
      ]
     },
     "execution_count": 8,
     "metadata": {},
     "output_type": "execute_result"
    }
   ],
   "source": [
    "var(Obs)"
   ]
  },
  {
   "cell_type": "code",
   "execution_count": 9,
   "id": "076aa788",
   "metadata": {},
   "outputs": [
    {
     "data": {
      "text/plain": [
       "183.38775510204079"
      ]
     },
     "execution_count": 9,
     "metadata": {},
     "output_type": "execute_result"
    }
   ],
   "source": [
    "np.var(Obs)"
   ]
  },
  {
   "cell_type": "code",
   "execution_count": 10,
   "id": "cb2e259e",
   "metadata": {},
   "outputs": [],
   "source": [
    "def std(x: np.ndarray):\n",
    "    return np.var(Obs) ** 0.5"
   ]
  },
  {
   "cell_type": "code",
   "execution_count": 11,
   "id": "8f4eaa20",
   "metadata": {},
   "outputs": [
    {
     "data": {
      "text/plain": [
       "13.542073515604645"
      ]
     },
     "execution_count": 11,
     "metadata": {},
     "output_type": "execute_result"
    }
   ],
   "source": [
    "std(Obs)"
   ]
  },
  {
   "cell_type": "code",
   "execution_count": 12,
   "id": "8ee85fd2",
   "metadata": {},
   "outputs": [
    {
     "data": {
      "text/plain": [
       "13.542073515604645"
      ]
     },
     "execution_count": 12,
     "metadata": {},
     "output_type": "execute_result"
    }
   ],
   "source": [
    "np.std(Obs)"
   ]
  },
  {
   "cell_type": "markdown",
   "id": "a53cf0d6",
   "metadata": {},
   "source": [
    "**Z-Score is how far an sample data point from its mean in terms of standard deviation as units**"
   ]
  },
  {
   "cell_type": "code",
   "execution_count": 13,
   "id": "ce3751a7",
   "metadata": {},
   "outputs": [],
   "source": [
    "def z_score(x: np.ndarray, sample: int):\n",
    "    mean = np.mean(x)\n",
    "    std = np.std(x)\n",
    "    \n",
    "    return (sample - mean) / std"
   ]
  },
  {
   "cell_type": "code",
   "execution_count": 14,
   "id": "723f86cc",
   "metadata": {},
   "outputs": [
    {
     "data": {
      "text/plain": [
       "-1.0021676928418763"
      ]
     },
     "execution_count": 14,
     "metadata": {},
     "output_type": "execute_result"
    }
   ],
   "source": [
    "z_score(Obs, 150) # i.e. 150 == mean + (-1.002) * std"
   ]
  },
  {
   "cell_type": "markdown",
   "id": "09ddd179",
   "metadata": {},
   "source": [
    "**Z-Score is used in Standardisation**"
   ]
  }
 ],
 "metadata": {
  "kernelspec": {
   "display_name": "Python 3 (ipykernel)",
   "language": "python",
   "name": "python3"
  },
  "language_info": {
   "codemirror_mode": {
    "name": "ipython",
    "version": 3
   },
   "file_extension": ".py",
   "mimetype": "text/x-python",
   "name": "python",
   "nbconvert_exporter": "python",
   "pygments_lexer": "ipython3",
   "version": "3.11.3"
  }
 },
 "nbformat": 4,
 "nbformat_minor": 5
}
