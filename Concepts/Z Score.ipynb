{
 "cells": [
  {
   "cell_type": "code",
   "execution_count": 1,
   "id": "49caad98",
   "metadata": {},
   "outputs": [],
   "source": [
    "import numpy as np"
   ]
  },
  {
   "cell_type": "code",
   "execution_count": 2,
   "id": "8d8dd8f1",
   "metadata": {},
   "outputs": [],
   "source": [
    "data = np.array([168, 170, 150, 160, 182, 140, 175])"
   ]
  },
  {
   "cell_type": "code",
   "execution_count": 3,
   "id": "ae395688",
   "metadata": {},
   "outputs": [
    {
     "data": {
      "text/plain": [
       "array([168, 170, 150, 160, 182, 140, 175])"
      ]
     },
     "execution_count": 3,
     "metadata": {},
     "output_type": "execute_result"
    }
   ],
   "source": [
    "data"
   ]
  },
  {
   "cell_type": "markdown",
   "id": "a2a1d821",
   "metadata": {},
   "source": [
    "$\\mu$ (mean) represents the data's center point\n",
    "\n",
    "$\\mu = \\frac{1}{N}\\sum\\limits_{i=1}^N x_i$"
   ]
  },
  {
   "cell_type": "code",
   "execution_count": 9,
   "id": "201fc2d7",
   "metadata": {},
   "outputs": [],
   "source": [
    "def mean(x: np.ndarray):\n",
    "    N = x.size\n",
    "    Sum = np.sum(x)\n",
    "    \n",
    "    return Sum / N"
   ]
  },
  {
   "cell_type": "code",
   "execution_count": 10,
   "id": "6bda1d33",
   "metadata": {},
   "outputs": [
    {
     "data": {
      "text/plain": [
       "163.57142857142858"
      ]
     },
     "execution_count": 10,
     "metadata": {},
     "output_type": "execute_result"
    }
   ],
   "source": [
    "mean(data)"
   ]
  },
  {
   "cell_type": "code",
   "execution_count": 11,
   "id": "39180302",
   "metadata": {},
   "outputs": [
    {
     "data": {
      "text/plain": [
       "163.57142857142858"
      ]
     },
     "execution_count": 11,
     "metadata": {},
     "output_type": "execute_result"
    }
   ],
   "source": [
    "np.mean(data)"
   ]
  },
  {
   "cell_type": "markdown",
   "id": "adfb4b52",
   "metadata": {},
   "source": [
    "$\\sigma^{2}$ (variance) is the measure of dispersion (Sum of Squared Residuals around the $\\mu$)\n",
    "\n",
    "$\\sigma^{2} = \\frac{1}{N}\\sum\\limits_{i=1}^N (x_i - \\mu)$"
   ]
  },
  {
   "cell_type": "code",
   "execution_count": 12,
   "id": "c9f1b02a",
   "metadata": {},
   "outputs": [],
   "source": [
    "def variance(x: np.ndarray):\n",
    "    u = np.mean(data)\n",
    "    N = x.size\n",
    "    Sum = 0\n",
    "    \n",
    "    for xi in x:\n",
    "        Sum += np.power(xi - u, 2)\n",
    "    return Sum / N"
   ]
  },
  {
   "cell_type": "code",
   "execution_count": 13,
   "id": "ca4b46e2",
   "metadata": {},
   "outputs": [
    {
     "data": {
      "text/plain": [
       "183.38775510204079"
      ]
     },
     "execution_count": 13,
     "metadata": {},
     "output_type": "execute_result"
    }
   ],
   "source": [
    "variance(data)"
   ]
  },
  {
   "cell_type": "code",
   "execution_count": 14,
   "id": "8b9e95e1",
   "metadata": {},
   "outputs": [
    {
     "data": {
      "text/plain": [
       "183.38775510204079"
      ]
     },
     "execution_count": 14,
     "metadata": {},
     "output_type": "execute_result"
    }
   ],
   "source": [
    "np.var(data)"
   ]
  },
  {
   "cell_type": "markdown",
   "id": "9bcdb2fd",
   "metadata": {},
   "source": [
    "$\\sigma$ (standard deviation) is the sqaure root of variance\n",
    "\n",
    "$\\sigma =\\sqrt{\\frac{1}{N}\\sum\\limits_{i=1}^N (x_i - \\mu)}$"
   ]
  },
  {
   "cell_type": "code",
   "execution_count": 15,
   "id": "0fa25668",
   "metadata": {},
   "outputs": [],
   "source": [
    "def standard_deviation(x: np.ndarray):\n",
    "    var = np.var(data)\n",
    "    return np.sqrt(var)"
   ]
  },
  {
   "cell_type": "code",
   "execution_count": 16,
   "id": "fdce9247",
   "metadata": {},
   "outputs": [
    {
     "data": {
      "text/plain": [
       "13.542073515604645"
      ]
     },
     "execution_count": 16,
     "metadata": {},
     "output_type": "execute_result"
    }
   ],
   "source": [
    "standard_deviation(data)"
   ]
  },
  {
   "cell_type": "code",
   "execution_count": 17,
   "id": "e2ec43ce",
   "metadata": {},
   "outputs": [
    {
     "data": {
      "text/plain": [
       "13.542073515604645"
      ]
     },
     "execution_count": 17,
     "metadata": {},
     "output_type": "execute_result"
    }
   ],
   "source": [
    "np.std(data)"
   ]
  },
  {
   "cell_type": "markdown",
   "id": "d84cc1a1",
   "metadata": {},
   "source": [
    "z score describes \"How far is a sample $x_i$ from $\\mu$ in terms of $\\sigma$\"\n",
    "\n",
    "z-score = $\\frac{x_i - \\mu}{\\sigma}$"
   ]
  },
  {
   "cell_type": "code",
   "execution_count": 18,
   "id": "d1284a92",
   "metadata": {},
   "outputs": [],
   "source": [
    "def z_score(x: np.ndarray):\n",
    "    u = np.mean(x)\n",
    "    s = np.std(x)\n",
    "    \n",
    "    return (x - u) / s"
   ]
  },
  {
   "cell_type": "code",
   "execution_count": 19,
   "id": "bb046e8f",
   "metadata": {},
   "outputs": [
    {
     "data": {
      "text/plain": [
       "array([ 0.32702314,  0.47471101, -1.00216769, -0.26372834,  1.36083824,\n",
       "       -1.74060705,  0.84393069])"
      ]
     },
     "execution_count": 19,
     "metadata": {},
     "output_type": "execute_result"
    }
   ],
   "source": [
    "z_score(data)"
   ]
  },
  {
   "cell_type": "markdown",
   "id": "7d55efdd",
   "metadata": {},
   "source": [
    "**NOTE: There is no built-in function in numpy to compute the z-score**"
   ]
  }
 ],
 "metadata": {
  "kernelspec": {
   "display_name": "Python 3 (ipykernel)",
   "language": "python",
   "name": "python3"
  },
  "language_info": {
   "codemirror_mode": {
    "name": "ipython",
    "version": 3
   },
   "file_extension": ".py",
   "mimetype": "text/x-python",
   "name": "python",
   "nbconvert_exporter": "python",
   "pygments_lexer": "ipython3",
   "version": "3.11.3"
  }
 },
 "nbformat": 4,
 "nbformat_minor": 5
}
